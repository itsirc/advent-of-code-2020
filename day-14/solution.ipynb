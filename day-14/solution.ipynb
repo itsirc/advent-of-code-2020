{
 "cells": [
  {
   "cell_type": "code",
   "execution_count": 1,
   "metadata": {},
   "outputs": [],
   "source": [
    "import parse"
   ]
  },
  {
   "cell_type": "code",
   "execution_count": 2,
   "metadata": {},
   "outputs": [],
   "source": [
    "class Mask:\n",
    "    mask: str = None\n",
    "    and_mask: int = None\n",
    "    or_mask: int = None\n",
    "    def __init__(self, mask: str):\n",
    "        self.mask = mask\n",
    "        self.and_mask = int(mask.replace('X', '1'), 2)\n",
    "        self.or_mask = int(mask.replace('X', '0'), 2)\n",
    "    def apply(self, value):\n",
    "        return (value & self.and_mask) | self.or_mask\n",
    "    def __repr__(self):\n",
    "        return f\"mask = {self.mask}\"\n",
    "    def __str__(self):\n",
    "        return repr(self)"
   ]
  },
  {
   "cell_type": "code",
   "execution_count": 3,
   "metadata": {},
   "outputs": [],
   "source": [
    "class MaskV2:\n",
    "    mask: str = None\n",
    "    or_mask = None\n",
    "    floating_masks = None\n",
    "    def __init__(self, mask: str):\n",
    "        self.mask = mask\n",
    "        self.or_mask = int(mask.replace('X', '1'), 2)\n",
    "        self.get_floating_masks()\n",
    "    def get_floating_masks(self):\n",
    "        self.floating_masks = []\n",
    "        partials = ['']\n",
    "        for bit in self.mask:\n",
    "            new_partials = []\n",
    "            for p in partials:\n",
    "                new_partials.append(p + '1')\n",
    "                if bit == 'X':\n",
    "                    new_partials.append(p + '0')\n",
    "            partials = new_partials\n",
    "        self.floating_masks = [int(p, 2) for p in partials]\n",
    "    def apply(self, value):\n",
    "        value = value | self.or_mask\n",
    "        values = []\n",
    "        for fmask in self.floating_masks:\n",
    "            values.append(value & fmask)\n",
    "        return values\n",
    "    def __repr__(self):\n",
    "        return f\"mask = {self.mask}\"\n",
    "    def __str__(self):\n",
    "        return repr(self)"
   ]
  },
  {
   "cell_type": "code",
   "execution_count": 4,
   "metadata": {},
   "outputs": [],
   "source": [
    "test_mask = Mask('XXXXXXXXXXXXXXXXXXXXXXXXXXXXX1XXXX0X')"
   ]
  },
  {
   "cell_type": "code",
   "execution_count": 5,
   "metadata": {},
   "outputs": [
    {
     "data": {
      "text/plain": [
       "73"
      ]
     },
     "execution_count": 5,
     "metadata": {},
     "output_type": "execute_result"
    }
   ],
   "source": [
    "test_mask.apply(11)"
   ]
  },
  {
   "cell_type": "code",
   "execution_count": 6,
   "metadata": {},
   "outputs": [],
   "source": [
    "class Assignment:\n",
    "    address: int = 0\n",
    "    value: int = 0\n",
    "    def __init__(self, address: int, value: int):\n",
    "        self.address = address\n",
    "        self.value = value\n",
    "    def __repr__(self):\n",
    "        return f\"mem[{self.address}] = {self.value}\""
   ]
  },
  {
   "cell_type": "code",
   "execution_count": 7,
   "metadata": {},
   "outputs": [],
   "source": [
    "def get_input(fname=\"input.txt\", mask_cls=Mask):\n",
    "    instructions = []\n",
    "    pattern = parse.compile('mem[{}] = {}')\n",
    "    with open(fname) as f:\n",
    "        for line in f.readlines():\n",
    "            line = line.strip()\n",
    "            if line[:4] == 'mask':\n",
    "                instructions.append(mask_cls(line.split(' = ')[-1]))\n",
    "            else:\n",
    "                parsed = pattern.parse(line)\n",
    "                instructions.append(Assignment(int(parsed[0]), int(parsed[1])))\n",
    "    return instructions"
   ]
  },
  {
   "cell_type": "code",
   "execution_count": 8,
   "metadata": {},
   "outputs": [],
   "source": [
    "test_data = get_input(\"test.txt\")"
   ]
  },
  {
   "cell_type": "code",
   "execution_count": 9,
   "metadata": {},
   "outputs": [
    {
     "data": {
      "text/plain": [
       "[mask = XXXXXXXXXXXXXXXXXXXXXXXXXXXXX1XXXX0X,\n",
       " mem[8] = 11,\n",
       " mem[7] = 101,\n",
       " mem[8] = 0]"
      ]
     },
     "execution_count": 9,
     "metadata": {},
     "output_type": "execute_result"
    }
   ],
   "source": [
    "test_data"
   ]
  },
  {
   "cell_type": "code",
   "execution_count": 10,
   "metadata": {},
   "outputs": [],
   "source": [
    "def run(instructions):\n",
    "    mask = None\n",
    "    values = {}\n",
    "    for instr in instructions:\n",
    "        if type(instr) is Mask:\n",
    "            mask = instr\n",
    "            continue\n",
    "        values[instr.address] = mask.apply(instr.value)\n",
    "    return values"
   ]
  },
  {
   "cell_type": "code",
   "execution_count": 11,
   "metadata": {},
   "outputs": [],
   "source": [
    "test_result = run(test_data)"
   ]
  },
  {
   "cell_type": "code",
   "execution_count": 12,
   "metadata": {},
   "outputs": [
    {
     "data": {
      "text/plain": [
       "165"
      ]
     },
     "execution_count": 12,
     "metadata": {},
     "output_type": "execute_result"
    }
   ],
   "source": [
    "sum(test_result.values())"
   ]
  },
  {
   "cell_type": "code",
   "execution_count": 13,
   "metadata": {},
   "outputs": [],
   "source": [
    "input_data = get_input(\"input.txt\")"
   ]
  },
  {
   "cell_type": "code",
   "execution_count": 14,
   "metadata": {},
   "outputs": [],
   "source": [
    "input_result = run(input_data)"
   ]
  },
  {
   "cell_type": "code",
   "execution_count": 15,
   "metadata": {},
   "outputs": [
    {
     "data": {
      "text/plain": [
       "6559449933360"
      ]
     },
     "execution_count": 15,
     "metadata": {},
     "output_type": "execute_result"
    }
   ],
   "source": [
    "sum(input_result.values())"
   ]
  },
  {
   "cell_type": "code",
   "execution_count": 16,
   "metadata": {},
   "outputs": [
    {
     "data": {
      "text/plain": [
       "9"
      ]
     },
     "execution_count": 16,
     "metadata": {},
     "output_type": "execute_result"
    }
   ],
   "source": [
    "max(sum(c == 'X' for c in i.mask) for i in input_data if type(i) is Mask)"
   ]
  },
  {
   "cell_type": "code",
   "execution_count": 17,
   "metadata": {},
   "outputs": [],
   "source": [
    "mask_v2 = MaskV2('000000000000000000000000000000X1001X')"
   ]
  },
  {
   "cell_type": "code",
   "execution_count": 18,
   "metadata": {},
   "outputs": [
    {
     "data": {
      "text/plain": [
       "[59, 58, 27, 26]"
      ]
     },
     "execution_count": 18,
     "metadata": {},
     "output_type": "execute_result"
    }
   ],
   "source": [
    "mask_v2.apply(42)"
   ]
  },
  {
   "cell_type": "code",
   "execution_count": 19,
   "metadata": {},
   "outputs": [],
   "source": [
    "test2_data = get_input(\"test2.txt\", MaskV2)"
   ]
  },
  {
   "cell_type": "code",
   "execution_count": 20,
   "metadata": {},
   "outputs": [],
   "source": [
    "def run2(instructions):\n",
    "    mask = None\n",
    "    values = {}\n",
    "    for instr in instructions:\n",
    "        if type(instr) is MaskV2:\n",
    "            mask = instr\n",
    "            continue\n",
    "        for addr in mask.apply(instr.address):\n",
    "            values[addr] = instr.value\n",
    "    return values"
   ]
  },
  {
   "cell_type": "code",
   "execution_count": 21,
   "metadata": {},
   "outputs": [
    {
     "data": {
      "text/plain": [
       "208"
      ]
     },
     "execution_count": 21,
     "metadata": {},
     "output_type": "execute_result"
    }
   ],
   "source": [
    "sum(run2(test2_data).values())"
   ]
  },
  {
   "cell_type": "code",
   "execution_count": 22,
   "metadata": {},
   "outputs": [],
   "source": [
    "input2_data = get_input(\"input.txt\", MaskV2)"
   ]
  },
  {
   "cell_type": "code",
   "execution_count": 23,
   "metadata": {},
   "outputs": [
    {
     "data": {
      "text/plain": [
       "3369767240513"
      ]
     },
     "execution_count": 23,
     "metadata": {},
     "output_type": "execute_result"
    }
   ],
   "source": [
    "sum(run2(input2_data).values())"
   ]
  },
  {
   "cell_type": "code",
   "execution_count": null,
   "metadata": {},
   "outputs": [],
   "source": []
  }
 ],
 "metadata": {
  "kernelspec": {
   "display_name": "Python 3",
   "language": "python",
   "name": "python3"
  },
  "language_info": {
   "codemirror_mode": {
    "name": "ipython",
    "version": 3
   },
   "file_extension": ".py",
   "mimetype": "text/x-python",
   "name": "python",
   "nbconvert_exporter": "python",
   "pygments_lexer": "ipython3",
   "version": "3.7.4"
  }
 },
 "nbformat": 4,
 "nbformat_minor": 4
}
