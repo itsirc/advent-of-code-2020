{
 "cells": [
  {
   "cell_type": "code",
   "execution_count": 1,
   "metadata": {},
   "outputs": [],
   "source": [
    "def get_input(fname=\"input.txt\"):\n",
    "    with open(fname) as f:\n",
    "        return [(l[0], int(l.strip()[1:])) for l in f.readlines()]"
   ]
  },
  {
   "cell_type": "code",
   "execution_count": 2,
   "metadata": {},
   "outputs": [],
   "source": [
    "test_data = get_input(\"test.txt\")"
   ]
  },
  {
   "cell_type": "code",
   "execution_count": 3,
   "metadata": {},
   "outputs": [
    {
     "data": {
      "text/plain": [
       "[('F', 10), ('N', 3), ('F', 7), ('R', 90), ('F', 11)]"
      ]
     },
     "execution_count": 3,
     "metadata": {},
     "output_type": "execute_result"
    }
   ],
   "source": [
    "test_data"
   ]
  },
  {
   "cell_type": "code",
   "execution_count": 4,
   "metadata": {},
   "outputs": [],
   "source": [
    "def move(moves):\n",
    "    directions = ['N', 'W', 'S', 'E']\n",
    "    deltas = { 'N': (0, -1), 'W': (1, 0), 'S': (0, 1), 'E': (-1, 0) }\n",
    "    position = (0, 0)\n",
    "    direction = 'E'\n",
    "    direction_idx = 3\n",
    "    for dir, value in moves:\n",
    "        if dir == 'L':\n",
    "            times = value // 90\n",
    "            direction_idx = (direction_idx + times) % len(directions)\n",
    "            direction = directions[direction_idx]\n",
    "        elif dir == 'R':\n",
    "            times = value // 90\n",
    "            direction_idx = (direction_idx - times) % len(directions)\n",
    "            direction = directions[direction_idx]\n",
    "        elif dir == 'F':\n",
    "            position = (position[0] + value * deltas[direction][0], position[1] + value * deltas[direction][1])\n",
    "        else:\n",
    "            position = (position[0] + value * deltas[dir][0], position[1] + value * deltas[dir][1])\n",
    "    return position"
   ]
  },
  {
   "cell_type": "code",
   "execution_count": 5,
   "metadata": {},
   "outputs": [
    {
     "data": {
      "text/plain": [
       "25"
      ]
     },
     "execution_count": 5,
     "metadata": {},
     "output_type": "execute_result"
    }
   ],
   "source": [
    "result = move(test_data)\n",
    "sum(abs(n) for n in result)"
   ]
  },
  {
   "cell_type": "code",
   "execution_count": 6,
   "metadata": {},
   "outputs": [],
   "source": [
    "input_data = get_input(\"input.txt\")"
   ]
  },
  {
   "cell_type": "code",
   "execution_count": 7,
   "metadata": {},
   "outputs": [
    {
     "data": {
      "text/plain": [
       "2057"
      ]
     },
     "execution_count": 7,
     "metadata": {},
     "output_type": "execute_result"
    }
   ],
   "source": [
    "result = move(input_data)\n",
    "sum(abs(n) for n in result)"
   ]
  },
  {
   "cell_type": "code",
   "execution_count": 8,
   "metadata": {},
   "outputs": [],
   "source": [
    "def move_by_waypoint(moves):\n",
    "    deltas = { 'N': (0, -1), 'W': (1, 0), 'S': (0, 1), 'E': (-1, 0) }\n",
    "    ship_position = (0, 0)\n",
    "    waypoint_position = (-10, -1)\n",
    "    for dir, value in moves:\n",
    "        if dir in ('R', 'L'):\n",
    "            if dir == 'L':\n",
    "                value = 360 - value\n",
    "            if value == 270:\n",
    "                waypoint_position = (-waypoint_position[1], waypoint_position[0])\n",
    "            elif value == 180:\n",
    "                waypoint_position = (-waypoint_position[0], -waypoint_position[1])\n",
    "            elif value == 90:\n",
    "                waypoint_position = (waypoint_position[1], -waypoint_position[0])\n",
    "        elif dir == 'F':\n",
    "            ship_position = (ship_position[0] + value * waypoint_position[0], ship_position[1] + value * waypoint_position[1])\n",
    "        else:\n",
    "            waypoint_position = (waypoint_position[0] + value * deltas[dir][0], waypoint_position[1] + value * deltas[dir][1])\n",
    "    return ship_position"
   ]
  },
  {
   "cell_type": "code",
   "execution_count": 9,
   "metadata": {},
   "outputs": [
    {
     "data": {
      "text/plain": [
       "286"
      ]
     },
     "execution_count": 9,
     "metadata": {},
     "output_type": "execute_result"
    }
   ],
   "source": [
    "result = move_by_waypoint(test_data)\n",
    "sum(abs(n) for n in result)"
   ]
  },
  {
   "cell_type": "code",
   "execution_count": 10,
   "metadata": {},
   "outputs": [
    {
     "data": {
      "text/plain": [
       "71504"
      ]
     },
     "execution_count": 10,
     "metadata": {},
     "output_type": "execute_result"
    }
   ],
   "source": [
    "result = move_by_waypoint(input_data)\n",
    "sum(abs(n) for n in result)"
   ]
  },
  {
   "cell_type": "code",
   "execution_count": null,
   "metadata": {},
   "outputs": [],
   "source": []
  }
 ],
 "metadata": {
  "kernelspec": {
   "display_name": "Python 3",
   "language": "python",
   "name": "python3"
  },
  "language_info": {
   "codemirror_mode": {
    "name": "ipython",
    "version": 3
   },
   "file_extension": ".py",
   "mimetype": "text/x-python",
   "name": "python",
   "nbconvert_exporter": "python",
   "pygments_lexer": "ipython3",
   "version": "3.7.4"
  }
 },
 "nbformat": 4,
 "nbformat_minor": 4
}
