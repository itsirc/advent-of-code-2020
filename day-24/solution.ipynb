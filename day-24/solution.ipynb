{
 "cells": [
  {
   "cell_type": "code",
   "execution_count": 1,
   "metadata": {},
   "outputs": [],
   "source": [
    "from collections import namedtuple, Counter"
   ]
  },
  {
   "cell_type": "markdown",
   "metadata": {},
   "source": [
    "Hexagonal grid will be represented in [cube coordinates](https://www.redblobgames.com/grids/hexagons/#coordinates-cube)."
   ]
  },
  {
   "cell_type": "code",
   "execution_count": 2,
   "metadata": {},
   "outputs": [],
   "source": [
    "HexPoint = namedtuple('HexPoint', 'x y z')"
   ]
  },
  {
   "cell_type": "code",
   "execution_count": 3,
   "metadata": {},
   "outputs": [],
   "source": [
    "HexPoint.__add__ = lambda a, b: HexPoint(a.x + b.x, a.y + b.y, a.z + b.z)"
   ]
  },
  {
   "cell_type": "code",
   "execution_count": 4,
   "metadata": {},
   "outputs": [],
   "source": [
    "def get_input(fname=\"input.txt\"):\n",
    "    moves = []\n",
    "    with open(fname) as f:\n",
    "        for line in f.readlines():\n",
    "            line = line.strip()\n",
    "            i = iter(line)\n",
    "            cmoves = []\n",
    "            while True:\n",
    "                nxt = next(i, None)\n",
    "                if nxt is None:\n",
    "                    break\n",
    "                if nxt in ('n', 's'):\n",
    "                    cmoves.append(nxt + next(i))\n",
    "                else:\n",
    "                    cmoves.append(nxt)\n",
    "            moves.append(cmoves)\n",
    "    return moves"
   ]
  },
  {
   "cell_type": "code",
   "execution_count": 5,
   "metadata": {},
   "outputs": [],
   "source": [
    "test_data = get_input(\"test.txt\")"
   ]
  },
  {
   "cell_type": "code",
   "execution_count": 6,
   "metadata": {},
   "outputs": [],
   "source": [
    "def convert_moves_to_coordinates(moves):\n",
    "    direction_deltas = {\n",
    "        'ne': HexPoint(1, 0, -1),\n",
    "        'nw': HexPoint(0, 1, -1),\n",
    "        'se': HexPoint(0, -1, 1),\n",
    "        'sw': HexPoint(-1, 0, 1),\n",
    "        'e':  HexPoint(1, -1, 0),\n",
    "        'w':  HexPoint(-1, 1, 0)\n",
    "    }\n",
    "    origin = HexPoint(0, 0, 0)\n",
    "    coordinates = []\n",
    "    for move in moves:\n",
    "        current = origin\n",
    "        for direction in move:\n",
    "            current += direction_deltas[direction]\n",
    "        coordinates.append(current)\n",
    "    return coordinates"
   ]
  },
  {
   "cell_type": "code",
   "execution_count": 7,
   "metadata": {},
   "outputs": [],
   "source": [
    "test_coordinates = convert_moves_to_coordinates(test_data)"
   ]
  },
  {
   "cell_type": "code",
   "execution_count": 8,
   "metadata": {},
   "outputs": [],
   "source": [
    "c = Counter(test_coordinates)"
   ]
  },
  {
   "cell_type": "code",
   "execution_count": 9,
   "metadata": {},
   "outputs": [
    {
     "data": {
      "text/plain": [
       "10"
      ]
     },
     "execution_count": 9,
     "metadata": {},
     "output_type": "execute_result"
    }
   ],
   "source": [
    "sum(v % 2 for v in c.values())"
   ]
  },
  {
   "cell_type": "code",
   "execution_count": 10,
   "metadata": {},
   "outputs": [],
   "source": [
    "input_data = get_input(\"input.txt\")"
   ]
  },
  {
   "cell_type": "code",
   "execution_count": 11,
   "metadata": {},
   "outputs": [],
   "source": [
    "coordinates = convert_moves_to_coordinates(input_data)"
   ]
  },
  {
   "cell_type": "code",
   "execution_count": 12,
   "metadata": {},
   "outputs": [
    {
     "data": {
      "text/plain": [
       "263"
      ]
     },
     "execution_count": 12,
     "metadata": {},
     "output_type": "execute_result"
    }
   ],
   "source": [
    "sum(v % 2 for v in Counter(coordinates).values())"
   ]
  },
  {
   "cell_type": "code",
   "execution_count": 13,
   "metadata": {},
   "outputs": [],
   "source": [
    "test_black_tiles = set(c for c, v in Counter(test_coordinates).items() if v % 2 == 1)"
   ]
  },
  {
   "cell_type": "code",
   "execution_count": 14,
   "metadata": {},
   "outputs": [
    {
     "data": {
      "text/plain": [
       "{HexPoint(x=-3, y=0, z=3),\n",
       " HexPoint(x=-3, y=1, z=2),\n",
       " HexPoint(x=-2, y=1, z=1),\n",
       " HexPoint(x=-2, y=2, z=0),\n",
       " HexPoint(x=-1, y=2, z=-1),\n",
       " HexPoint(x=0, y=-2, z=2),\n",
       " HexPoint(x=0, y=0, z=0),\n",
       " HexPoint(x=0, y=1, z=-1),\n",
       " HexPoint(x=2, y=-2, z=0),\n",
       " HexPoint(x=3, y=0, z=-3)}"
      ]
     },
     "execution_count": 14,
     "metadata": {},
     "output_type": "execute_result"
    }
   ],
   "source": [
    "test_black_tiles"
   ]
  },
  {
   "cell_type": "code",
   "execution_count": 15,
   "metadata": {},
   "outputs": [],
   "source": [
    "def simulate(initial_black_tiles, days=100):\n",
    "    direction_deltas = {\n",
    "        'ne': HexPoint(1, 0, -1),\n",
    "        'nw': HexPoint(0, 1, -1),\n",
    "        'se': HexPoint(0, -1, 1),\n",
    "        'sw': HexPoint(-1, 0, 1),\n",
    "        'e':  HexPoint(1, -1, 0),\n",
    "        'w':  HexPoint(-1, 1, 0)\n",
    "    }\n",
    "    current_black_tiles = initial_black_tiles\n",
    "    for _ in range(days):\n",
    "        new_black_tiles = set()\n",
    "        white_tiles_to_check = {}\n",
    "        for tile in current_black_tiles:\n",
    "            neighbors = set(tile + delta for delta in direction_deltas.values())\n",
    "            black_neighbors = neighbors & current_black_tiles\n",
    "            white_neighbors = neighbors - black_neighbors\n",
    "            if len(black_neighbors) in (1, 2): # remains black\n",
    "                new_black_tiles.add(tile)\n",
    "            for n in white_neighbors:\n",
    "                if n not in white_tiles_to_check:\n",
    "                    white_tiles_to_check[n] = 1\n",
    "                else:\n",
    "                    white_tiles_to_check[n] += 1\n",
    "        for tile, black_neighbors in white_tiles_to_check.items():\n",
    "            if black_neighbors == 2:\n",
    "                new_black_tiles.add(tile)\n",
    "        current_black_tiles = new_black_tiles\n",
    "    return current_black_tiles"
   ]
  },
  {
   "cell_type": "code",
   "execution_count": 16,
   "metadata": {},
   "outputs": [
    {
     "data": {
      "text/plain": [
       "2208"
      ]
     },
     "execution_count": 16,
     "metadata": {},
     "output_type": "execute_result"
    }
   ],
   "source": [
    "len(simulate(test_black_tiles))"
   ]
  },
  {
   "cell_type": "code",
   "execution_count": 17,
   "metadata": {},
   "outputs": [],
   "source": [
    "black_tiles = set(c for c, v in Counter(coordinates).items() if v % 2 == 1)"
   ]
  },
  {
   "cell_type": "code",
   "execution_count": 18,
   "metadata": {},
   "outputs": [
    {
     "name": "stdout",
     "output_type": "stream",
     "text": [
      "CPU times: user 1.25 s, sys: 7.16 ms, total: 1.26 s\n",
      "Wall time: 1.26 s\n"
     ]
    },
    {
     "data": {
      "text/plain": [
       "3649"
      ]
     },
     "execution_count": 18,
     "metadata": {},
     "output_type": "execute_result"
    }
   ],
   "source": [
    "%%time\n",
    "len(simulate(black_tiles))"
   ]
  },
  {
   "cell_type": "code",
   "execution_count": null,
   "metadata": {},
   "outputs": [],
   "source": []
  }
 ],
 "metadata": {
  "kernelspec": {
   "display_name": "Python 3",
   "language": "python",
   "name": "python3"
  },
  "language_info": {
   "codemirror_mode": {
    "name": "ipython",
    "version": 3
   },
   "file_extension": ".py",
   "mimetype": "text/x-python",
   "name": "python",
   "nbconvert_exporter": "python",
   "pygments_lexer": "ipython3",
   "version": "3.7.4"
  }
 },
 "nbformat": 4,
 "nbformat_minor": 4
}
