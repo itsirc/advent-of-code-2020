{
 "cells": [
  {
   "cell_type": "code",
   "execution_count": 1,
   "metadata": {},
   "outputs": [],
   "source": [
    "class Pattern:\n",
    "    value: str\n",
    "    subpatterns: list\n",
    "    def __init__(self, value=None, subpatterns=None):\n",
    "        if value is not None:\n",
    "            self.value = value\n",
    "            self.subpatterns = None\n",
    "        else:\n",
    "            self.value = None\n",
    "            self.subpatterns = subpatterns\n",
    "    def __repr__(self):\n",
    "        if self.value is not None:\n",
    "            return f'\"{self.value}\"'\n",
    "        else:\n",
    "            return \" | \".join(\" \".join(str(p) for p in l) for l in self.subpatterns)\n",
    "    def __str__(self):\n",
    "        return repr(self)"
   ]
  },
  {
   "cell_type": "code",
   "execution_count": 2,
   "metadata": {},
   "outputs": [],
   "source": [
    "def get_input(fname=\"input.txt\"):\n",
    "    rules = {}\n",
    "    messages = []\n",
    "    with open(fname) as f:\n",
    "        lines = [line.strip() for line in f.readlines()]\n",
    "        split = lines.index('')\n",
    "        for rule in lines[:split]:\n",
    "            id, patternlist = rule.split(\": \")\n",
    "            id = int(id)\n",
    "            rules[id] = []\n",
    "            subpatterns = []\n",
    "            for pattern in patternlist.split(\" | \"):\n",
    "                if pattern[0] == '\"':\n",
    "                    rules[id] = Pattern(pattern.strip('\"'))\n",
    "                else:\n",
    "                    subpatterns.append([int(r) for r in pattern.split(\" \")])\n",
    "            if len(subpatterns) > 0:\n",
    "                rules[id] = Pattern(subpatterns=subpatterns)\n",
    "        messages = lines[split+1:]\n",
    "    return rules, messages"
   ]
  },
  {
   "cell_type": "code",
   "execution_count": 3,
   "metadata": {},
   "outputs": [],
   "source": [
    "test_rules, test_messages = get_input(\"test.txt\")"
   ]
  },
  {
   "cell_type": "code",
   "execution_count": 4,
   "metadata": {},
   "outputs": [
    {
     "data": {
      "text/plain": [
       "{0: 4 1 5, 1: 2 3 | 3 2, 2: 4 4 | 5 5, 3: 4 5 | 5 4, 4: \"a\", 5: \"b\"}"
      ]
     },
     "execution_count": 4,
     "metadata": {},
     "output_type": "execute_result"
    }
   ],
   "source": [
    "test_rules"
   ]
  },
  {
   "cell_type": "code",
   "execution_count": 5,
   "metadata": {},
   "outputs": [],
   "source": [
    "rules, messages = get_input(\"input.txt\")"
   ]
  },
  {
   "cell_type": "code",
   "execution_count": 6,
   "metadata": {},
   "outputs": [],
   "source": [
    "def matches(message, rules, rule=0, start=0):\n",
    "    if start >= len(message):\n",
    "        return []\n",
    "    if rules[rule].value is not None:\n",
    "        if rules[rule].value == message[start]:\n",
    "            return [(rule, start + 1)]\n",
    "        return []\n",
    "    matched = []\n",
    "    for pattern in rules[rule].subpatterns:\n",
    "        q = [start]\n",
    "        for p in pattern:\n",
    "            new_q = []\n",
    "            for s in q:\n",
    "                m = matches(message, rules, p, s)\n",
    "                for match in m:\n",
    "                    new_q.append(match[1])\n",
    "            q = new_q\n",
    "            if len(q) == 0:\n",
    "                break\n",
    "        matched += [(rule, s) for s in q] \n",
    "    return matched"
   ]
  },
  {
   "cell_type": "code",
   "execution_count": 7,
   "metadata": {},
   "outputs": [
    {
     "name": "stdout",
     "output_type": "stream",
     "text": [
      "2\n"
     ]
    }
   ],
   "source": [
    "test_matches = [matches(message, test_rules) for message in test_messages]\n",
    "matching = 0\n",
    "for i, m in enumerate(test_matches):\n",
    "    for rule, end in m:\n",
    "        if end == len(test_messages[i]):\n",
    "            matching += 1\n",
    "print(matching)"
   ]
  },
  {
   "cell_type": "code",
   "execution_count": 8,
   "metadata": {},
   "outputs": [
    {
     "name": "stdout",
     "output_type": "stream",
     "text": [
      "285\n"
     ]
    }
   ],
   "source": [
    "input_matches = [matches(message, rules) for message in messages]\n",
    "matching = 0\n",
    "for i, m in enumerate(input_matches):\n",
    "    for rule, end in m:\n",
    "        if end == len(messages[i]):\n",
    "            matching += 1\n",
    "print(matching)"
   ]
  },
  {
   "cell_type": "code",
   "execution_count": 9,
   "metadata": {},
   "outputs": [],
   "source": [
    "test2_rules, test2_messages = get_input(\"test2.txt\")"
   ]
  },
  {
   "cell_type": "code",
   "execution_count": 10,
   "metadata": {},
   "outputs": [
    {
     "name": "stdout",
     "output_type": "stream",
     "text": [
      "3\n"
     ]
    }
   ],
   "source": [
    "test2_matches = [matches(message, test2_rules) for message in test2_messages]\n",
    "matching = 0\n",
    "for i, m in enumerate(test2_matches):\n",
    "    for rule, end in m:\n",
    "        if end == len(test2_messages[i]):\n",
    "            matching += 1\n",
    "print(matching)"
   ]
  },
  {
   "cell_type": "code",
   "execution_count": 11,
   "metadata": {},
   "outputs": [
    {
     "name": "stdout",
     "output_type": "stream",
     "text": [
      "12\n"
     ]
    }
   ],
   "source": [
    "test2_rules[8] = Pattern(subpatterns=[[42], [42, 8]])\n",
    "test2_rules[11] = Pattern(subpatterns=[[42, 31], [42, 11, 31]])\n",
    "test2_matches = [matches(message, test2_rules) for message in test2_messages]\n",
    "matching = 0\n",
    "for i, m in enumerate(test2_matches):\n",
    "    for rule, end in m:\n",
    "        if end == len(test2_messages[i]):\n",
    "            matching += 1\n",
    "print(matching)"
   ]
  },
  {
   "cell_type": "code",
   "execution_count": 12,
   "metadata": {},
   "outputs": [],
   "source": [
    "rules[8] = Pattern(subpatterns=[[42], [42, 8]])\n",
    "rules[11] = Pattern(subpatterns=[[42, 31], [42, 11, 31]])"
   ]
  },
  {
   "cell_type": "code",
   "execution_count": 13,
   "metadata": {},
   "outputs": [
    {
     "name": "stdout",
     "output_type": "stream",
     "text": [
      "412\n",
      "CPU times: user 752 ms, sys: 4.9 ms, total: 757 ms\n",
      "Wall time: 762 ms\n"
     ]
    }
   ],
   "source": [
    "%%time\n",
    "input_matches = [matches(message, rules) for message in messages]\n",
    "matching = 0\n",
    "for i, m in enumerate(input_matches):\n",
    "    for rule, end in m:\n",
    "        if end == len(messages[i]):\n",
    "            matching += 1\n",
    "print(matching)"
   ]
  },
  {
   "cell_type": "code",
   "execution_count": null,
   "metadata": {},
   "outputs": [],
   "source": []
  }
 ],
 "metadata": {
  "kernelspec": {
   "display_name": "Python 3",
   "language": "python",
   "name": "python3"
  },
  "language_info": {
   "codemirror_mode": {
    "name": "ipython",
    "version": 3
   },
   "file_extension": ".py",
   "mimetype": "text/x-python",
   "name": "python",
   "nbconvert_exporter": "python",
   "pygments_lexer": "ipython3",
   "version": "3.7.4"
  }
 },
 "nbformat": 4,
 "nbformat_minor": 4
}
