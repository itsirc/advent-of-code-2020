{
 "cells": [
  {
   "cell_type": "code",
   "execution_count": 1,
   "metadata": {},
   "outputs": [],
   "source": [
    "from collections import deque\n",
    "import itertools"
   ]
  },
  {
   "cell_type": "code",
   "execution_count": 2,
   "metadata": {},
   "outputs": [],
   "source": [
    "def get_input(fname=\"input.txt\"):\n",
    "    with open(fname) as f:\n",
    "        lines = [line.strip() for line in f.readlines()]\n",
    "        split_idx = lines.index(\"\")\n",
    "        return [[int(i) for i in lines[1:split_idx]], [int(i) for i in lines[split_idx+2:]]]"
   ]
  },
  {
   "cell_type": "code",
   "execution_count": 3,
   "metadata": {},
   "outputs": [],
   "source": [
    "test_data = get_input(\"test.txt\")"
   ]
  },
  {
   "cell_type": "code",
   "execution_count": 4,
   "metadata": {},
   "outputs": [
    {
     "data": {
      "text/plain": [
       "[[9, 2, 6, 3, 1], [5, 8, 4, 7, 10]]"
      ]
     },
     "execution_count": 4,
     "metadata": {},
     "output_type": "execute_result"
    }
   ],
   "source": [
    "test_data"
   ]
  },
  {
   "cell_type": "code",
   "execution_count": 5,
   "metadata": {},
   "outputs": [],
   "source": [
    "def play(player1_cards, player2_cards):\n",
    "    q1 = deque(player1_cards)\n",
    "    q2 = deque(player2_cards)\n",
    "    while len(q1) * len(q2) > 0:\n",
    "        c1 = q1.popleft()\n",
    "        c2 = q2.popleft()\n",
    "        if c1 > c2:\n",
    "            q1 += [c1, c2]\n",
    "        else:\n",
    "            q2 += [c2, c1]\n",
    "    return list(q1) + list(q2)"
   ]
  },
  {
   "cell_type": "code",
   "execution_count": 6,
   "metadata": {},
   "outputs": [],
   "source": [
    "test_result = play(*test_data)"
   ]
  },
  {
   "cell_type": "code",
   "execution_count": 7,
   "metadata": {},
   "outputs": [
    {
     "data": {
      "text/plain": [
       "306"
      ]
     },
     "execution_count": 7,
     "metadata": {},
     "output_type": "execute_result"
    }
   ],
   "source": [
    "sum((i + 1) * c for i, c in enumerate(reversed(test_result)))"
   ]
  },
  {
   "cell_type": "code",
   "execution_count": 8,
   "metadata": {},
   "outputs": [],
   "source": [
    "input_data = get_input(\"input.txt\")"
   ]
  },
  {
   "cell_type": "code",
   "execution_count": 9,
   "metadata": {},
   "outputs": [],
   "source": [
    "result = play(*input_data)"
   ]
  },
  {
   "cell_type": "code",
   "execution_count": 10,
   "metadata": {},
   "outputs": [
    {
     "data": {
      "text/plain": [
       "32598"
      ]
     },
     "execution_count": 10,
     "metadata": {},
     "output_type": "execute_result"
    }
   ],
   "source": [
    "sum((i + 1) * c for i, c in enumerate(reversed(result)))"
   ]
  },
  {
   "cell_type": "code",
   "execution_count": 11,
   "metadata": {},
   "outputs": [],
   "source": [
    "def game_signature(player1_cards, player2_cards):\n",
    "    return (tuple(player1_cards), tuple(player2_cards))\n",
    "\n",
    "def play_recursive(player1_cards, player2_cards, game=None, cache={}):\n",
    "    q1 = deque(player1_cards)\n",
    "    q2 = deque(player2_cards)\n",
    "    game_sig = game_signature(q1, q2)\n",
    "    if game_sig in cache:\n",
    "        return None, cache[game_sig]\n",
    "    game_cache = {}\n",
    "    if len(q1) + len(q2) not in cache:\n",
    "        cache[len(q1) + len(q2)] = {}\n",
    "    while len(q1) * len(q2) > 0:\n",
    "        sig = game_signature(q1, q2)\n",
    "        if sig in game_cache:\n",
    "            return None, 0 # player 1 wins\n",
    "        if sig in cache:\n",
    "            return None, cache[sig]\n",
    "        game_cache[sig] = True\n",
    "        c1 = q1.popleft()\n",
    "        c2 = q2.popleft()\n",
    "        if c1 <= len(q1) and c2 <= len(q2):\n",
    "            _, winner = play_recursive(itertools.islice(q1, 0, c1), itertools.islice(q2, 0, c2), cache=cache)\n",
    "        elif c1 > c2:\n",
    "            winner = 0\n",
    "        else:\n",
    "            winner = 1\n",
    "        if winner == 0:\n",
    "            q1 += [c1, c2]\n",
    "        else:\n",
    "            q2 += [c2, c1]\n",
    "    winner = 1 - int(len(q1) > 0)\n",
    "    cache[game_sig] = winner\n",
    "    return list(q1) + list(q2), winner"
   ]
  },
  {
   "cell_type": "code",
   "execution_count": 12,
   "metadata": {},
   "outputs": [
    {
     "name": "stdout",
     "output_type": "stream",
     "text": [
      "CPU times: user 64 µs, sys: 0 ns, total: 64 µs\n",
      "Wall time: 65.8 µs\n"
     ]
    },
    {
     "data": {
      "text/plain": [
       "([7, 5, 6, 2, 4, 1, 10, 8, 9, 3], 1)"
      ]
     },
     "execution_count": 12,
     "metadata": {},
     "output_type": "execute_result"
    }
   ],
   "source": [
    "%%time\n",
    "play_recursive(*test_data, cache={})"
   ]
  },
  {
   "cell_type": "code",
   "execution_count": 13,
   "metadata": {},
   "outputs": [
    {
     "name": "stdout",
     "output_type": "stream",
     "text": [
      "CPU times: user 1.92 s, sys: 10.1 ms, total: 1.93 s\n",
      "Wall time: 1.94 s\n"
     ]
    }
   ],
   "source": [
    "%%time\n",
    "result = play_recursive(*input_data, cache={})[0]"
   ]
  },
  {
   "cell_type": "code",
   "execution_count": 14,
   "metadata": {},
   "outputs": [
    {
     "data": {
      "text/plain": [
       "35836"
      ]
     },
     "execution_count": 14,
     "metadata": {},
     "output_type": "execute_result"
    }
   ],
   "source": [
    "sum((i + 1) * c for i, c in enumerate(reversed(result)))"
   ]
  },
  {
   "cell_type": "code",
   "execution_count": null,
   "metadata": {},
   "outputs": [],
   "source": []
  }
 ],
 "metadata": {
  "kernelspec": {
   "display_name": "Python 3",
   "language": "python",
   "name": "python3"
  },
  "language_info": {
   "codemirror_mode": {
    "name": "ipython",
    "version": 3
   },
   "file_extension": ".py",
   "mimetype": "text/x-python",
   "name": "python",
   "nbconvert_exporter": "python",
   "pygments_lexer": "ipython3",
   "version": "3.7.4"
  }
 },
 "nbformat": 4,
 "nbformat_minor": 4
}
