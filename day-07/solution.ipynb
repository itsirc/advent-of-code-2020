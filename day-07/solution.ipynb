{
 "cells": [
  {
   "cell_type": "code",
   "execution_count": 1,
   "metadata": {},
   "outputs": [],
   "source": [
    "from dataclasses import dataclass\n",
    "from __future__ import annotations\n",
    "from collections import deque"
   ]
  },
  {
   "cell_type": "code",
   "execution_count": 2,
   "metadata": {},
   "outputs": [],
   "source": [
    "def get_input(fname=\"input.txt\"):\n",
    "    with open(fname) as f:\n",
    "        for line in f.readlines():\n",
    "            line = line.strip()[:-1]\n",
    "            container, contains = line.split(\" bags contain \")\n",
    "            if contains == \"no other bags\":\n",
    "                yield container, []\n",
    "                continue\n",
    "            contained_parts = contains.split(\", \")\n",
    "            contained = []\n",
    "            for c in contained_parts:\n",
    "                p = c.split(\" \")\n",
    "                contained.append((int(p[0]), \" \".join(p[1:-1])))\n",
    "            yield container, contained"
   ]
  },
  {
   "cell_type": "code",
   "execution_count": 3,
   "metadata": {},
   "outputs": [],
   "source": [
    "test_data = list(get_input(\"test.txt\"))"
   ]
  },
  {
   "cell_type": "code",
   "execution_count": 4,
   "metadata": {},
   "outputs": [
    {
     "data": {
      "text/plain": [
       "[('light red', [(1, 'bright white'), (2, 'muted yellow')]),\n",
       " ('dark orange', [(3, 'bright white'), (4, 'muted yellow')]),\n",
       " ('bright white', [(1, 'shiny gold')]),\n",
       " ('muted yellow', [(2, 'shiny gold'), (9, 'faded blue')]),\n",
       " ('shiny gold', [(1, 'dark olive'), (2, 'vibrant plum')]),\n",
       " ('dark olive', [(3, 'faded blue'), (4, 'dotted black')]),\n",
       " ('vibrant plum', [(5, 'faded blue'), (6, 'dotted black')]),\n",
       " ('faded blue', []),\n",
       " ('dotted black', [])]"
      ]
     },
     "execution_count": 4,
     "metadata": {},
     "output_type": "execute_result"
    }
   ],
   "source": [
    "test_data"
   ]
  },
  {
   "cell_type": "code",
   "execution_count": 5,
   "metadata": {},
   "outputs": [],
   "source": [
    "@dataclass\n",
    "class Node:\n",
    "    color: str\n",
    "    contains: dict[Node, int]\n",
    "    contained_in: set[Node]\n",
    "    \n",
    "    def __hash__(self):\n",
    "        return hash(self.color)"
   ]
  },
  {
   "cell_type": "code",
   "execution_count": 6,
   "metadata": {},
   "outputs": [],
   "source": [
    "def get_bag_types(data):\n",
    "    make_node = lambda color: Node(color, {}, set())\n",
    "    BagTypes = {}\n",
    "    for color, contained in data:\n",
    "        if color not in BagTypes:\n",
    "            BagTypes[color] = make_node(color)\n",
    "        bag = BagTypes[color]\n",
    "        for qty, c_color in contained:\n",
    "            if c_color not in BagTypes:\n",
    "                BagTypes[c_color] = make_node(c_color)\n",
    "            c_bag = BagTypes[c_color]\n",
    "            bag.contains[c_bag] = qty\n",
    "            c_bag.contained_in.add(bag)\n",
    "    return BagTypes"
   ]
  },
  {
   "cell_type": "code",
   "execution_count": 7,
   "metadata": {},
   "outputs": [],
   "source": [
    "TestBagTypes = get_bag_types(test_data)"
   ]
  },
  {
   "cell_type": "code",
   "execution_count": 8,
   "metadata": {},
   "outputs": [
    {
     "data": {
      "text/plain": [
       "['light red',\n",
       " 'bright white',\n",
       " 'muted yellow',\n",
       " 'dark orange',\n",
       " 'shiny gold',\n",
       " 'faded blue',\n",
       " 'dark olive',\n",
       " 'vibrant plum',\n",
       " 'dotted black']"
      ]
     },
     "execution_count": 8,
     "metadata": {},
     "output_type": "execute_result"
    }
   ],
   "source": [
    "[bag.color for bag in TestBagTypes.values()]"
   ]
  },
  {
   "cell_type": "code",
   "execution_count": 9,
   "metadata": {},
   "outputs": [
    {
     "name": "stdout",
     "output_type": "stream",
     "text": [
      "['muted yellow', 'bright white']\n"
     ]
    }
   ],
   "source": [
    "print([c.color for c in TestBagTypes['shiny gold'].contained_in])"
   ]
  },
  {
   "cell_type": "code",
   "execution_count": 10,
   "metadata": {},
   "outputs": [],
   "source": [
    "def solution1(BagTypes, color):\n",
    "    found: set[Node] = set()\n",
    "    q = deque(BagTypes[color].contained_in)\n",
    "    while len(q) > 0:\n",
    "        n = q.pop()\n",
    "        found.add(n)\n",
    "        q.extend(n.contained_in - found)\n",
    "    return found"
   ]
  },
  {
   "cell_type": "code",
   "execution_count": 11,
   "metadata": {},
   "outputs": [
    {
     "data": {
      "text/plain": [
       "4"
      ]
     },
     "execution_count": 11,
     "metadata": {},
     "output_type": "execute_result"
    }
   ],
   "source": [
    "len(solution1(TestBagTypes, 'shiny gold'))"
   ]
  },
  {
   "cell_type": "code",
   "execution_count": 12,
   "metadata": {},
   "outputs": [
    {
     "name": "stdout",
     "output_type": "stream",
     "text": [
      "['muted yellow', 'bright white', 'dark orange', 'light red']\n"
     ]
    }
   ],
   "source": [
    "print([c.color for c in solution1(TestBagTypes, 'shiny gold')])"
   ]
  },
  {
   "cell_type": "code",
   "execution_count": 13,
   "metadata": {},
   "outputs": [],
   "source": [
    "input_data = get_input()"
   ]
  },
  {
   "cell_type": "code",
   "execution_count": 14,
   "metadata": {},
   "outputs": [],
   "source": [
    "BagTypes = get_bag_types(input_data)"
   ]
  },
  {
   "cell_type": "code",
   "execution_count": 15,
   "metadata": {},
   "outputs": [
    {
     "data": {
      "text/plain": [
       "148"
      ]
     },
     "execution_count": 15,
     "metadata": {},
     "output_type": "execute_result"
    }
   ],
   "source": [
    "len(solution1(BagTypes, 'shiny gold'))"
   ]
  },
  {
   "cell_type": "code",
   "execution_count": 16,
   "metadata": {},
   "outputs": [],
   "source": [
    "def number_of_bags(BagTypes, color, BagNumbers={}):\n",
    "    if color in BagNumbers:\n",
    "        return BagNumbers[color]\n",
    "    cnt = 0\n",
    "    for clr, qty in BagTypes[color].contains.items():\n",
    "        cnt += (1 + number_of_bags(BagTypes, clr.color, BagNumbers)) * qty\n",
    "    return cnt"
   ]
  },
  {
   "cell_type": "code",
   "execution_count": 17,
   "metadata": {},
   "outputs": [
    {
     "data": {
      "text/plain": [
       "32"
      ]
     },
     "execution_count": 17,
     "metadata": {},
     "output_type": "execute_result"
    }
   ],
   "source": [
    "number_of_bags(TestBagTypes, 'shiny gold')"
   ]
  },
  {
   "cell_type": "code",
   "execution_count": 18,
   "metadata": {},
   "outputs": [
    {
     "data": {
      "text/plain": [
       "24867"
      ]
     },
     "execution_count": 18,
     "metadata": {},
     "output_type": "execute_result"
    }
   ],
   "source": [
    "number_of_bags(BagTypes, 'shiny gold', {})"
   ]
  },
  {
   "cell_type": "code",
   "execution_count": null,
   "metadata": {},
   "outputs": [],
   "source": []
  }
 ],
 "metadata": {
  "kernelspec": {
   "display_name": "Python 3",
   "language": "python",
   "name": "python3"
  },
  "language_info": {
   "codemirror_mode": {
    "name": "ipython",
    "version": 3
   },
   "file_extension": ".py",
   "mimetype": "text/x-python",
   "name": "python",
   "nbconvert_exporter": "python",
   "pygments_lexer": "ipython3",
   "version": "3.7.4"
  }
 },
 "nbformat": 4,
 "nbformat_minor": 4
}
