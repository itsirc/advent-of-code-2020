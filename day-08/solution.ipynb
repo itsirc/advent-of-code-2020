{
 "cells": [
  {
   "cell_type": "code",
   "execution_count": 1,
   "metadata": {},
   "outputs": [],
   "source": [
    "def get_input(fname=\"input.txt\"):\n",
    "    with open(fname) as f:\n",
    "        for line in f.readlines():\n",
    "            parts = line.strip().split(\" \")\n",
    "            yield parts[0], int(parts[1])"
   ]
  },
  {
   "cell_type": "code",
   "execution_count": 2,
   "metadata": {},
   "outputs": [],
   "source": [
    "test_data = list(get_input(\"test.txt\"))"
   ]
  },
  {
   "cell_type": "code",
   "execution_count": 3,
   "metadata": {},
   "outputs": [
    {
     "data": {
      "text/plain": [
       "[('nop', 0),\n",
       " ('acc', 1),\n",
       " ('jmp', 4),\n",
       " ('acc', 3),\n",
       " ('jmp', -3),\n",
       " ('acc', -99),\n",
       " ('acc', 1),\n",
       " ('jmp', -4),\n",
       " ('acc', 6)]"
      ]
     },
     "execution_count": 3,
     "metadata": {},
     "output_type": "execute_result"
    }
   ],
   "source": [
    "test_data"
   ]
  },
  {
   "cell_type": "code",
   "execution_count": 4,
   "metadata": {},
   "outputs": [],
   "source": [
    "class Register:\n",
    "    value: int = 0"
   ]
  },
  {
   "cell_type": "code",
   "execution_count": 5,
   "metadata": {},
   "outputs": [],
   "source": [
    "class Instruction:\n",
    "    operation: str\n",
    "    argument: int\n",
    "    def __init__(self, argument):\n",
    "        self.argument = argument\n",
    "    def __repr__(self):\n",
    "        if self.argument >= 0:\n",
    "            return f\"{self.operation} +{self.argument}\"\n",
    "        return f\"{self.operation} {self.argument}\"\n",
    "    def __str__(self):\n",
    "        return repr(self)"
   ]
  },
  {
   "cell_type": "code",
   "execution_count": 6,
   "metadata": {},
   "outputs": [],
   "source": [
    "class NOPInstruction(Instruction):\n",
    "    operation = \"nop\"\n",
    "    def execute(self, cptr: int, reg: Register) -> int:\n",
    "        return cptr + 1"
   ]
  },
  {
   "cell_type": "code",
   "execution_count": 7,
   "metadata": {},
   "outputs": [],
   "source": [
    "class ACCInstruction(Instruction):\n",
    "    operation = \"acc\"\n",
    "    def execute(self, cptr: int, reg: Register) -> int:\n",
    "        reg.value += self.argument\n",
    "        return cptr + 1"
   ]
  },
  {
   "cell_type": "code",
   "execution_count": 8,
   "metadata": {},
   "outputs": [],
   "source": [
    "class JMPInstruction(Instruction):\n",
    "    operation = \"jmp\"\n",
    "    def execute(self, cptr: int, reg: Register) -> int:\n",
    "        return cptr + self.argument"
   ]
  },
  {
   "cell_type": "code",
   "execution_count": 9,
   "metadata": {},
   "outputs": [],
   "source": [
    "instr_map = dict(nop=NOPInstruction, acc=ACCInstruction, jmp=JMPInstruction)"
   ]
  },
  {
   "cell_type": "code",
   "execution_count": 10,
   "metadata": {},
   "outputs": [
    {
     "data": {
      "text/plain": [
       "{'nop': __main__.NOPInstruction,\n",
       " 'acc': __main__.ACCInstruction,\n",
       " 'jmp': __main__.JMPInstruction}"
      ]
     },
     "execution_count": 10,
     "metadata": {},
     "output_type": "execute_result"
    }
   ],
   "source": [
    "instr_map"
   ]
  },
  {
   "cell_type": "code",
   "execution_count": 11,
   "metadata": {},
   "outputs": [],
   "source": [
    "test_instructions = [instr_map[i[0]](i[1]) for i in get_input(\"test.txt\")]"
   ]
  },
  {
   "cell_type": "code",
   "execution_count": 12,
   "metadata": {},
   "outputs": [
    {
     "data": {
      "text/plain": [
       "[nop +0, acc +1, jmp +4, acc +3, jmp -3, acc -99, acc +1, jmp -4, acc +6]"
      ]
     },
     "execution_count": 12,
     "metadata": {},
     "output_type": "execute_result"
    }
   ],
   "source": [
    "test_instructions"
   ]
  },
  {
   "cell_type": "code",
   "execution_count": 13,
   "metadata": {},
   "outputs": [],
   "source": [
    "def solution1(instructions):\n",
    "    cptr = 0\n",
    "    executed = set()\n",
    "    acc = Register()\n",
    "    while cptr not in executed:\n",
    "        executed.add(cptr)\n",
    "        cptr = instructions[cptr].execute(cptr, acc)\n",
    "    return acc.value"
   ]
  },
  {
   "cell_type": "code",
   "execution_count": 14,
   "metadata": {},
   "outputs": [
    {
     "data": {
      "text/plain": [
       "5"
      ]
     },
     "execution_count": 14,
     "metadata": {},
     "output_type": "execute_result"
    }
   ],
   "source": [
    "solution1(test_instructions)"
   ]
  },
  {
   "cell_type": "code",
   "execution_count": 15,
   "metadata": {},
   "outputs": [],
   "source": [
    "input_instructions = [instr_map[i[0]](i[1]) for i in get_input(\"input.txt\")]"
   ]
  },
  {
   "cell_type": "code",
   "execution_count": 16,
   "metadata": {},
   "outputs": [
    {
     "data": {
      "text/plain": [
       "1584"
      ]
     },
     "execution_count": 16,
     "metadata": {},
     "output_type": "execute_result"
    }
   ],
   "source": [
    "solution1(input_instructions)"
   ]
  },
  {
   "cell_type": "code",
   "execution_count": 17,
   "metadata": {},
   "outputs": [],
   "source": [
    "def execute(instructions):\n",
    "    cptr = 0\n",
    "    executed = set()\n",
    "    acc = Register()\n",
    "    while cptr < len(instructions):\n",
    "        executed.add(cptr)\n",
    "        cptr = instructions[cptr].execute(cptr, acc)\n",
    "        if cptr in executed:\n",
    "            return None\n",
    "    return acc.value"
   ]
  },
  {
   "cell_type": "code",
   "execution_count": 18,
   "metadata": {},
   "outputs": [],
   "source": [
    "execute(test_instructions)"
   ]
  },
  {
   "cell_type": "code",
   "execution_count": 19,
   "metadata": {},
   "outputs": [],
   "source": [
    "def fix_instructions(instructions):\n",
    "    for idx, i in enumerate(instructions):\n",
    "        if i.operation == \"acc\":\n",
    "            continue\n",
    "        if i.operation == \"nop\":\n",
    "            instructions[idx] = JMPInstruction(i.argument)\n",
    "        else:\n",
    "            instructions[idx] = NOPInstruction(i.argument)\n",
    "        result = execute(instructions)\n",
    "        instructions[idx] = i\n",
    "        if result is not None:\n",
    "            return result"
   ]
  },
  {
   "cell_type": "code",
   "execution_count": 20,
   "metadata": {},
   "outputs": [
    {
     "data": {
      "text/plain": [
       "8"
      ]
     },
     "execution_count": 20,
     "metadata": {},
     "output_type": "execute_result"
    }
   ],
   "source": [
    "fix_instructions(test_instructions)"
   ]
  },
  {
   "cell_type": "code",
   "execution_count": 21,
   "metadata": {},
   "outputs": [
    {
     "data": {
      "text/plain": [
       "920"
      ]
     },
     "execution_count": 21,
     "metadata": {},
     "output_type": "execute_result"
    }
   ],
   "source": [
    "fix_instructions(input_instructions)"
   ]
  },
  {
   "cell_type": "code",
   "execution_count": null,
   "metadata": {},
   "outputs": [],
   "source": []
  }
 ],
 "metadata": {
  "kernelspec": {
   "display_name": "Python 3",
   "language": "python",
   "name": "python3"
  },
  "language_info": {
   "codemirror_mode": {
    "name": "ipython",
    "version": 3
   },
   "file_extension": ".py",
   "mimetype": "text/x-python",
   "name": "python",
   "nbconvert_exporter": "python",
   "pygments_lexer": "ipython3",
   "version": "3.7.4"
  }
 },
 "nbformat": 4,
 "nbformat_minor": 4
}
