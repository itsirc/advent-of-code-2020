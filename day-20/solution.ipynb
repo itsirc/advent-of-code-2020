{
 "cells": [
  {
   "cell_type": "code",
   "execution_count": 1,
   "metadata": {},
   "outputs": [],
   "source": [
    "import functools"
   ]
  },
  {
   "cell_type": "code",
   "execution_count": 2,
   "metadata": {},
   "outputs": [],
   "source": [
    "class Tile:\n",
    "    id = 0\n",
    "    grid = None\n",
    "    values = None\n",
    "    neighbors = None\n",
    "    def __init__(self, id, grid, neighbors = None):\n",
    "        self.id = id\n",
    "        self.grid = grid\n",
    "        if neighbors is None:\n",
    "            self.neighbors = set()\n",
    "        else:\n",
    "            self.neighbors = set(neighbors)\n",
    "        self.detect_values()\n",
    "    def update_grid(self, grid):\n",
    "        self.grid = grid\n",
    "        self.detect_values()\n",
    "    def detect_values(self):\n",
    "        top = ''.join(self.grid[0])\n",
    "        bottom = ''.join(self.grid[-1])\n",
    "        left = ''.join(line[0] for line in self.grid)\n",
    "        right = ''.join(line[-1] for line in self.grid)\n",
    "        self.values = [top, bottom, left, right]\n",
    "    def __repr__(self):\n",
    "        parts = [''.join(line) for line in self.grid]\n",
    "        return \"\\n\".join(parts)\n",
    "    def __str__(self):\n",
    "        return repr(self)\n",
    "    def __hash__(self):\n",
    "        return hash(self.id)"
   ]
  },
  {
   "cell_type": "code",
   "execution_count": 3,
   "metadata": {},
   "outputs": [],
   "source": [
    "def get_input(fname=\"input.txt\"):\n",
    "    tiles = []\n",
    "    with open(fname) as f:\n",
    "        lines = f.readlines()\n",
    "        loops = 1 + (len(lines) - 1) // 12\n",
    "        for i in range(loops):\n",
    "            id = int(lines[i * 12].strip().strip(\":\").split(\" \")[-1])\n",
    "            grid = [list(l.strip()) for l in lines[i * 12 + 1: i * 12 + 11]]\n",
    "            tiles.append(Tile(id, grid))\n",
    "    return tiles"
   ]
  },
  {
   "cell_type": "code",
   "execution_count": 4,
   "metadata": {},
   "outputs": [],
   "source": [
    "def flip_value(v):\n",
    "    return ''.join(reversed(v))"
   ]
  },
  {
   "cell_type": "code",
   "execution_count": 5,
   "metadata": {},
   "outputs": [],
   "source": [
    "def arrage_image(tiles):\n",
    "    changed = True\n",
    "    while changed:\n",
    "        changed = False\n",
    "        edges_to_tiles = {}\n",
    "        for tile in tiles.values():\n",
    "            if len(tile.neighbors) == 4:\n",
    "                continue\n",
    "            for edge in tile.values:\n",
    "                edge = min(edge, flip_value(edge))\n",
    "                if edge not in edges_to_tiles:\n",
    "                    edges_to_tiles[edge] = set()\n",
    "                edges_to_tiles[edge].add(tile)\n",
    "        for edge, tset in edges_to_tiles.items():\n",
    "            if len(tset) == 2:\n",
    "                changed = True\n",
    "                for t in tset:\n",
    "                    t.neighbors.add((tset - { t }).pop())\n",
    "                    if edge in t.values:\n",
    "                        t.values.remove(edge)\n",
    "                    else:\n",
    "                        t.values.remove(flip_value(edge))\n",
    "    corners = set()\n",
    "    for t in tiles.values():\n",
    "        if len(t.neighbors) == 2:\n",
    "            corners.add(t)\n",
    "    return [t.id for t in corners]"
   ]
  },
  {
   "cell_type": "code",
   "execution_count": 6,
   "metadata": {},
   "outputs": [],
   "source": [
    "test_data = { t.id: t for t in get_input(\"test.txt\") }"
   ]
  },
  {
   "cell_type": "code",
   "execution_count": 7,
   "metadata": {},
   "outputs": [
    {
     "data": {
      "text/plain": [
       "[3079, 1171, 2971, 1951]"
      ]
     },
     "execution_count": 7,
     "metadata": {},
     "output_type": "execute_result"
    }
   ],
   "source": [
    "arrage_image(test_data)"
   ]
  },
  {
   "cell_type": "code",
   "execution_count": 8,
   "metadata": {},
   "outputs": [],
   "source": [
    "input_data = { t.id: t for t in get_input(\"input.txt\") }"
   ]
  },
  {
   "cell_type": "code",
   "execution_count": 9,
   "metadata": {},
   "outputs": [],
   "source": [
    "result = arrage_image(input_data)"
   ]
  },
  {
   "cell_type": "code",
   "execution_count": 10,
   "metadata": {},
   "outputs": [
    {
     "data": {
      "text/plain": [
       "45443966642567"
      ]
     },
     "execution_count": 10,
     "metadata": {},
     "output_type": "execute_result"
    }
   ],
   "source": [
    "functools.reduce(lambda a, b: a * b, result)"
   ]
  },
  {
   "cell_type": "code",
   "execution_count": 11,
   "metadata": {},
   "outputs": [],
   "source": [
    "def flip_horizontally(grid):\n",
    "    return [list(reversed(line)) for line in grid]\n",
    "\n",
    "def flip_vertically(grid):\n",
    "    return [list(line) for line in reversed(grid)]\n",
    "\n",
    "# https://stackoverflow.com/questions/53895650/matrix-90-degree-clockwise-rotation-using-list-in-python/60331181\n",
    "def rotate_clockwise(grid):\n",
    "    return [list(reversed(col)) for col in zip(*grid)]\n",
    "\n",
    "# https://stackoverflow.com/questions/53250821/in-python-how-do-i-rotate-a-matrix-90-degrees-counterclockwise\n",
    "def rotate_counterclockwise(grid):\n",
    "    return [[grid[j][i] for j in range(len(grid))] for i in range(len(grid[0])-1,-1,-1)]\n",
    "\n",
    "def copy(grid):\n",
    "    return [list(line) for line in grid]"
   ]
  },
  {
   "cell_type": "code",
   "execution_count": 12,
   "metadata": {},
   "outputs": [],
   "source": [
    "TOP, BOTTOM, LEFT, RIGHT = (0, 1, 2, 3)"
   ]
  },
  {
   "cell_type": "code",
   "execution_count": 13,
   "metadata": {},
   "outputs": [],
   "source": [
    "def transform_tile_to_match_right(fixed_tile, other_tile):\n",
    "    if other_tile is None:\n",
    "        return\n",
    "    value = fixed_tile.values[RIGHT]\n",
    "    if value == other_tile.values[LEFT]:\n",
    "        # already matching\n",
    "        transform = copy\n",
    "    elif value == flip_value(other_tile.values[LEFT]):\n",
    "        # right side matches other's flipped left side -> flip vertically\n",
    "        transform = flip_vertically\n",
    "    elif value == flip_value(other_tile.values[TOP]):\n",
    "        # right side matches other's flipped top side -> rotate counter clockwise\n",
    "        transform = rotate_counterclockwise\n",
    "    elif value == other_tile.values[TOP]:\n",
    "        # right side matches other's top side -> rotate counter clockwise and flip vertically\n",
    "        transform = lambda grid: flip_vertically(rotate_counterclockwise(grid))\n",
    "    elif value == other_tile.values[RIGHT]:\n",
    "        # right side matches other's right side -> flip horizontally\n",
    "        transform = flip_horizontally\n",
    "    elif value == flip_value(other_tile.values[RIGHT]):\n",
    "        # right side matches other's reversed right side -> flip horizontally and vertically\n",
    "        transform = lambda grid: flip_vertically(flip_horizontally(grid))\n",
    "    elif value == other_tile.values[BOTTOM]:\n",
    "        # right side matches other's bottom side -> rotate clockwise\n",
    "        transform = rotate_clockwise\n",
    "    elif value == flip_value(other_tile.values[BOTTOM]):\n",
    "        # right side matches other's flipped bottom side -> rotate clockwise and flip vertically\n",
    "        transform = lambda grid: flip_vertically(rotate_clockwise(grid))\n",
    "    else:\n",
    "        print(\"Shouldn't happen\")\n",
    "        return\n",
    "    other_tile.update_grid(transform(other_tile.grid))\n",
    "    # also transform downward tile\n",
    "    transform_tile_to_match_down(other_tile, find_match(other_tile, BOTTOM))\n",
    "\n",
    "def transform_tile_to_match_down(fixed_tile, other_tile):\n",
    "    if other_tile is None:\n",
    "        return\n",
    "    value = fixed_tile.values[BOTTOM]\n",
    "    if value == other_tile.values[TOP]:\n",
    "        # already matching\n",
    "        transform = copy\n",
    "    elif value == flip_value(other_tile.values[TOP]):\n",
    "        # bottom side matches other's flipped top side -> flip horizontally\n",
    "        transform = flip_horizontally\n",
    "    elif value == other_tile.values[BOTTOM]:\n",
    "        # bottom side matches other's bottom side -> flip vertically\n",
    "        transform = flip_vertically\n",
    "    elif value == flip_value(other_tile.values[BOTTOM]):\n",
    "        # bottom side matches other's flipped bottom side -> flip horizontally and vertically\n",
    "        transform = lambda grid: flip_vertically(flip_horizontally(grid))\n",
    "    elif value == other_tile.values[LEFT]:\n",
    "        # bottom side matches other's left side -> rotate clockwise and flip horizontally\n",
    "        transform = lambda grid: flip_horizontally(rotate_clockwise(grid))\n",
    "    elif value == flip_value(other_tile.values[LEFT]):\n",
    "        # bottom side matches other's flipped left side -> rotate clockwise\n",
    "        transform = rotate_clockwise\n",
    "    elif value == other_tile.values[RIGHT]:\n",
    "        # bottom side matches other's right side -> rotate counter clockwise\n",
    "        transform = rotate_counterclockwise\n",
    "    elif value == flip_value(other_tile.values[RIGHT]):\n",
    "        # bottom side matches other's flipped right side -> rotate counter clockwise and flip horizontally\n",
    "        transform = lambda grid: flip_horizontally(rotate_counterclockwise(grid))\n",
    "    else:\n",
    "        print(\"Shouldn't happen\")\n",
    "        return\n",
    "    other_tile.update_grid(transform(other_tile.grid))"
   ]
  },
  {
   "cell_type": "code",
   "execution_count": 14,
   "metadata": {},
   "outputs": [],
   "source": [
    "def find_match(tile, direction=RIGHT):\n",
    "    if tile is None:\n",
    "        return None\n",
    "    value = tile.values[direction]\n",
    "    for neighbor in tile.neighbors:\n",
    "        for v in neighbor.values:\n",
    "            if value == v or value == flip_value(v):\n",
    "                return neighbor\n",
    "    return None"
   ]
  },
  {
   "cell_type": "code",
   "execution_count": 15,
   "metadata": {},
   "outputs": [],
   "source": [
    "def rotate_corner(corner):\n",
    "    directions = set()\n",
    "    for d in { TOP, BOTTOM, LEFT, RIGHT }:\n",
    "        if find_match(corner, d):\n",
    "            directions.add(d)\n",
    "    if directions == { BOTTOM, RIGHT }:\n",
    "        return\n",
    "    elif directions == { BOTTOM, LEFT }:\n",
    "        corner.update_grid(flip_horizontally(corner.grid))\n",
    "    elif directions == { TOP, RIGHT }:\n",
    "        corner.update_grid(flip_vertically(corner.grid))\n",
    "    elif directions == { TOP, LEFT }:\n",
    "        corner.update_grid(flip_horizontally(flip_vertically(corner.grid)))"
   ]
  },
  {
   "cell_type": "code",
   "execution_count": 16,
   "metadata": {},
   "outputs": [],
   "source": [
    "def get_image(tiles, corner):\n",
    "    for t in tiles.values():\n",
    "        t.detect_values()\n",
    "    grid = [[]]\n",
    "    # go right & down\n",
    "    current = tiles[corner]\n",
    "    # rotate corner to be able to traverse\n",
    "    rotate_corner(current)\n",
    "    dwn = find_match(current, BOTTOM)\n",
    "    dwn.neighbors.remove(current)\n",
    "    transform_tile_to_match_down(current, dwn)\n",
    "    matched = 0\n",
    "    direction = RIGHT\n",
    "    while matched != len(tiles):\n",
    "        grid[-1].append(current)\n",
    "        matched += 1\n",
    "        if len(current.neighbors) == 0:\n",
    "            break\n",
    "        rgt = find_match(current, RIGHT)\n",
    "        if rgt is None:\n",
    "            current = dwn\n",
    "            grid.append([])\n",
    "            dwn = find_match(current, BOTTOM)\n",
    "            if dwn is not None:\n",
    "                transform_tile_to_match_down(current, dwn)\n",
    "                dwn.neighbors.remove(current)\n",
    "        else:\n",
    "            transform_tile_to_match_right(current, rgt)\n",
    "            rgt.neighbors.remove(current)\n",
    "            current.neighbors.remove(rgt)\n",
    "            current = rgt\n",
    "    return grid[:-1]"
   ]
  },
  {
   "cell_type": "code",
   "execution_count": 17,
   "metadata": {},
   "outputs": [],
   "source": [
    "def assemble_image(image_grid):\n",
    "    image = []\n",
    "    for l in image_grid:\n",
    "        for i in range(1, len(l[0].grid) - 1):\n",
    "            row = []\n",
    "            for tile in l:\n",
    "                row += tile.grid[i][1:-1]\n",
    "            image.append(''.join(row))\n",
    "    return '\\n'.join(image)"
   ]
  },
  {
   "cell_type": "code",
   "execution_count": 18,
   "metadata": {},
   "outputs": [],
   "source": [
    "test_data = { t.id: t for t in get_input(\"test.txt\") }\n",
    "arrage_image(test_data)\n",
    "test_image_grid = get_image(test_data, corner=1951)"
   ]
  },
  {
   "cell_type": "code",
   "execution_count": 19,
   "metadata": {},
   "outputs": [
    {
     "name": "stdout",
     "output_type": "stream",
     "text": [
      ".#.#..#.##...#.##..#####\n",
      "###....#.#....#..#......\n",
      "##.##.###.#.#..######...\n",
      "###.#####...#.#####.#..#\n",
      "##.#....#.##.####...#.##\n",
      "...########.#....#####.#\n",
      "....#..#...##..#.#.###..\n",
      ".####...#..#.....#......\n",
      "#..#.##..#..###.#.##....\n",
      "#.####..#.####.#.#.###..\n",
      "###.#.#...#.######.#..##\n",
      "#.####....##..########.#\n",
      "##..##.#...#...#.#.#.#..\n",
      "...#..#..#.#.##..###.###\n",
      ".#.#....#.##.#...###.##.\n",
      "###.#...#..#.##.######..\n",
      ".#.#.###.##.##.#..#.##..\n",
      ".####.###.#...###.#..#.#\n",
      "..#.#..#..#.#.#.####.###\n",
      "#..####...#.#.#.###.###.\n",
      "#####..#####...###....##\n",
      "#.##..#..#...#..####...#\n",
      ".#.###..##..##..####.##.\n",
      "...###...##...#...#..###\n"
     ]
    }
   ],
   "source": [
    "print(assemble_image(test_image_grid))"
   ]
  },
  {
   "cell_type": "code",
   "execution_count": 20,
   "metadata": {},
   "outputs": [],
   "source": [
    "monster = \"\"\"\n",
    "                  # \n",
    "#    ##    ##    ###\n",
    " #  #  #  #  #  #   \n",
    "\"\"\".split(\"\\n\")[1:-1]"
   ]
  },
  {
   "cell_type": "code",
   "execution_count": 21,
   "metadata": {},
   "outputs": [],
   "source": [
    "flipped_monster = flip_horizontally(monster)"
   ]
  },
  {
   "cell_type": "code",
   "execution_count": 22,
   "metadata": {},
   "outputs": [],
   "source": [
    "monster_patterns = [\n",
    "    monster,\n",
    "    rotate_clockwise(monster),\n",
    "    rotate_clockwise(rotate_clockwise(monster)),\n",
    "    rotate_counterclockwise(monster),\n",
    "    flipped_monster,\n",
    "    rotate_clockwise(flipped_monster),\n",
    "    rotate_clockwise(rotate_clockwise(flipped_monster)),\n",
    "    rotate_counterclockwise(flipped_monster),\n",
    "]"
   ]
  },
  {
   "cell_type": "code",
   "execution_count": 23,
   "metadata": {},
   "outputs": [],
   "source": [
    "input_data = { t.id: t for t in get_input(\"input.txt\") }\n",
    "corners = arrage_image(input_data)\n",
    "image_grid = get_image(input_data, corner=corners[0])"
   ]
  },
  {
   "cell_type": "code",
   "execution_count": 24,
   "metadata": {},
   "outputs": [],
   "source": [
    "test_image = assemble_image(test_image_grid)"
   ]
  },
  {
   "cell_type": "code",
   "execution_count": 25,
   "metadata": {},
   "outputs": [
    {
     "name": "stdout",
     "output_type": "stream",
     "text": [
      ".#.#..#.##...#.##..#####\n",
      "###....#.#....#..#......\n",
      "##.##.###.#.#..######...\n",
      "###.#####...#.#####.#..#\n",
      "##.#....#.##.####...#.##\n",
      "...########.#....#####.#\n",
      "....#..#...##..#.#.###..\n",
      ".####...#..#.....#......\n",
      "#..#.##..#..###.#.##....\n",
      "#.####..#.####.#.#.###..\n",
      "###.#.#...#.######.#..##\n",
      "#.####....##..########.#\n",
      "##..##.#...#...#.#.#.#..\n",
      "...#..#..#.#.##..###.###\n",
      ".#.#....#.##.#...###.##.\n",
      "###.#...#..#.##.######..\n",
      ".#.#.###.##.##.#..#.##..\n",
      ".####.###.#...###.#..#.#\n",
      "..#.#..#..#.#.#.####.###\n",
      "#..####...#.#.#.###.###.\n",
      "#####..#####...###....##\n",
      "#.##..#..#...#..####...#\n",
      ".#.###..##..##..####.##.\n",
      "...###...##...#...#..###\n"
     ]
    }
   ],
   "source": [
    "print(test_image)"
   ]
  },
  {
   "cell_type": "code",
   "execution_count": 26,
   "metadata": {},
   "outputs": [],
   "source": [
    "def detect_monsters(image, monster):\n",
    "    image = [list(l) for l in image.split(\"\\n\")]\n",
    "    monster_width = len(monster[0])\n",
    "    monster_height = len(monster)\n",
    "    num_monsters = 0\n",
    "    for i in range(len(image) - monster_height):\n",
    "        for j in range(len(image[0]) - monster_width):\n",
    "            is_monster = True\n",
    "            for k in range(monster_height):\n",
    "                if not is_monster:\n",
    "                    break\n",
    "                for l in range(monster_width):\n",
    "                    if monster[k][l] == '#' and image[i + k][j + l] == '.':\n",
    "                        is_monster = False\n",
    "                        break\n",
    "            if is_monster:\n",
    "                num_monsters += 1\n",
    "                for k in range(monster_height):\n",
    "                    for l in range(monster_width):\n",
    "                        if monster[k][l] == '#':\n",
    "                            image[i + k][j + l] = 'o'\n",
    "    return '\\n'.join(''.join(l) for l in image), num_monsters"
   ]
  },
  {
   "cell_type": "code",
   "execution_count": 27,
   "metadata": {},
   "outputs": [
    {
     "name": "stdout",
     "output_type": "stream",
     "text": [
      ".#.#..#.##...#.##..#####\n",
      "###....#.#....#..o......\n",
      "##.o#.###.#.#..###o##...\n",
      "###.o####...#.#####.#..#\n",
      "##.#....#.##.####...#.##\n",
      "...########.#....#o###.#\n",
      "....o..#...##..#.o.###..\n",
      ".##o#...#..#.....o......\n",
      "#..o.##..#..###.#.o#....\n",
      "#.##o#..#.####.#.#.###..\n",
      "###.#.#...#.######.#..##\n",
      "#.####....##..####o###.#\n",
      "##..o#.#...#...#.o.#.#..\n",
      "...o..#..#.#.##..o##.###\n",
      ".#.o....#.##.#...#o#.##.\n",
      "###.o...#..#.##.######..\n",
      ".#.#.###.##.##.#..#.##..\n",
      ".####.###.#...###.o..#.#\n",
      "..#.o..#..#.#.#.#o##.###\n",
      "#..o###...#.#.#.oo#.###.\n",
      "##oo#..#####...##o....##\n",
      "#.#o..#..#...#..####...#\n",
      ".#.###..##..##..####.##.\n",
      "...###...##...#...#..###\n",
      "273\n"
     ]
    }
   ],
   "source": [
    "for pattern in monster_patterns:\n",
    "    detected_image, detected_monsters = detect_monsters(test_image, pattern)\n",
    "    if detected_monsters > 0:\n",
    "        print(detected_image)\n",
    "        print(sum(c == '#' for c in detected_image))"
   ]
  },
  {
   "cell_type": "code",
   "execution_count": 28,
   "metadata": {},
   "outputs": [],
   "source": [
    "image = assemble_image(image_grid)"
   ]
  },
  {
   "cell_type": "code",
   "execution_count": 29,
   "metadata": {},
   "outputs": [
    {
     "name": "stdout",
     "output_type": "stream",
     "text": [
      "1607\n",
      "..#.##........#....#####...............#.#.#...................#..#.........#.#....#.##...#.....\n",
      "....#.#....##......#....#.........#..........#.#.....#.....#.........#...#..#....###.#.#.#..#...\n",
      "...........#.##.#.......#..#..........##..#.......#.....#....#....#...#....##.#.#.#.#...#.......\n",
      "...#......#.......#...#.....o.........##..#.......#..............#..####..........#....#...#....\n",
      "......#....##.#......##.....oo.##.####....#....#..#...##.#..#..##...#......##....#..##.......#..\n",
      "#....#...#....#.............o...................#..#.......#..#......##...#.......#......##.....\n",
      "...#.....##.....#....##.#.#o...#..............................#....#.....##.....###.#.#.##.....#\n",
      "..#.....#.....##.#................#................#...............##....#..#...#........##.....\n",
      ".........#..#........#........#.......##.###...................#..#...#......#........##........\n",
      "..#...#.o.##..#...#........o...#.#.#.#.....o.#.#...###.......#..........#.......................\n",
      "#.#....#oo#.#..#.....#..#...o....#.........oo#..............#..#...........#..............#..#.#\n",
      "........o#........#.#...#...o.#..#..#......o.....#..#...........#.......o............#.#..#.....\n",
      ".......o#..#....#..#.....#.o...#..#.##...#o.....#.....#....#.........#..oo...###.#...##.........\n",
      "..##.#.........####...#....##..#..o.........#...#...#......#..#...o..##.o#.....#.....#..#......#\n",
      ".#............#..#..#...#....#.#.#oo...............#.#.......#..#.oo...o........#.....#.#.#...#.\n",
      "#..##.#o...#..#.......#....o#.....o.......o#......#.##.##.........o.#.#........#...#.......#..##\n",
      "..#....#o.....#...........##o...#o....#....o#..o#......#.#.......o.#.....#.....#o##........#..#.\n",
      ".....#..o..#..##.....#......o..#...#.....#.o...oo#.....##...........#..o..#.....oo#....#...#.#..\n",
      "#......o........#........#.o........#.....o.#..o..#.#............##....#o#......o.......#.......\n",
      ".............###..#..#...#.##....o.....#.#....o.#....#...#.#.#..#o..#...o...##.o#....#...####..#\n",
      "..#..#......##..#...#......#......o.....##..#.##.#.............#..o.#..o..........#......#......\n",
      ".#.#...o...#....#...#......o.#....o......#o...#..####.............o.............#...#....#.#....\n",
      ".#......o#...#.........#....o....o.........o..o.#.#.#............o...........##o.......#......#.\n",
      "#.#.....o........#.....#......#........#...o..#o##..#...........##...#.o........o.#.#....#....##\n",
      "..#..#.o...........#........#..#..........o....o#.#....##..#............o.#..#..o...##..........\n",
      "....#....#...#.#..#...##........#o.......#....o###......#.#......o....#.o..#...o.......#...#....\n",
      ".##.................#.#...........o##.....#.......#.........o.....o....o........#.......##......\n",
      ".#.....o............##............o.....##o#.#......#......#oo....o.......#.............#.#....#\n",
      ".......#o.....o##..#.#..#.#......o...#.#...o..o....#........o....o......#......o..........#.....\n",
      "..#....#..##..oo.........##..............#.....o#.....###..o.###....##.o...#.#..o#.#.#.#..#....#\n",
      "...#..........o#......#....#......#.#.#.....#.#o..#..#.................#o.....#.o#..........#...\n",
      "...........#.o...#...#.#.........o...........#o.....#...##.#....#o#............o....#...........\n",
      "...##..........#..........#.......o.#...........#......#...o....#.o......#.#.........#.....#....\n",
      "...........#..#.....#.#.#..#..#.##..#.#...#.........#...#...o..........#.#...........#.......#..\n",
      ".##...#...#..o.....####..........#.#..#.......o#.........#..o.....#....##.#...#o..............#.\n",
      "..........#...o.......##.............#o....#.#.o..........#o.....#..#...#.....#.o..#.......##...\n",
      "..#...##......o.....#......#.....#..#.oo....#........##..##...........##...##.....#..#..........\n",
      "...#o......#.o.##............#....#.##o....#..#..#......##...##..#....#...#.....#.#.#.....#.....\n",
      ".#..oo..#..#...................##..#.o............#..#...#.o....#...#.#..#.......#.#.........#.#\n",
      "..#.o.##.......##.#....o...#.#...............#........#.#..#o...#.#......#.........##........#..\n",
      "..#o#.....#.#o.........oo#.....#.............#..#...........o#......#..........#.#........#..##.\n",
      "....#..#......o...###..o#...........#o........#..#.........o..........#.........#.........#..#..\n",
      ".#....#.....#.o...##.#o#..#.........#.o...#..................#..#...#...#....#.#........#...#...\n",
      "..#o...#.....o....#.#...#....#........o..#.#####.....#...........#.#............#...........#..#\n",
      "...#o......#.#........#.......#....#.o.#...................o...#..........#................o....\n",
      "....o#..#....#......##o...#...##..#.......#.................o........#......#.......#.....#oo#..\n",
      "#.#o#........o#.......#o.....##..#.........#...................#....#..#.....#......#.#....o...#\n",
      "....#..#.....#o#.....#.o.........#...o.....###.##.#...#...#.........#.....................o.#...\n",
      "....#...#...#..#...#..o.#........#..##o..........##...........#......#...#......#.......###..#..\n",
      "...o...#........#..#...#....#.#.......o.#.......#......#.##..#...o..#.....###.........#.....#...\n",
      "....o.................#..............o..#..............#...#.#..#oo...................##..o..#.#\n",
      "....o.#......##.#.....o.....#...#....#....#............#.......#.o.#......#.....##.........o#...\n",
      "#..o.#.#.#...........#.o.............#........##..#o............o...............#..........o....\n",
      ".........#.............o...#.....#.#.o...###.......oo............#..#..#.#.#...........#..o..#..\n",
      "#...#................#o.#.#.#....#.#..o.##.##..#...o...#..#..........#.....#..#.#...........#...\n",
      "...o#.....##...#..#.....#........#.#..#..###......o.....#......#o..###.#.#.o........#.#....#..##\n",
      "..#.o#.....##.#..#.......#.#..............#........#..##.........o.........oo..###..#.....o.....\n",
      "......#..#....##..#...o.....#......#..........#..#....#.##....#..o.#.....##o...#...#...#...o....\n",
      "......#..#..#.#...#....o.....#.#..#.....#.........o...#..#...###o#........o.#.......#...#..o#.#.\n",
      ".#.......#...#.#.#.#.......##....#......#....###.#.o..................##.....#...###......o#....\n",
      "...##..#.....#.......#.#.##............###.........o.....#......##...#....#.#........#..........\n",
      "#................#.......###o.....................o.........##..o.......#.o.#............#...#..\n",
      "....#..#......#............#oo..#.##.......##...#.....#....##....o.........o.#..##........o.....\n",
      "................#...........o.........................#.....##...o.........o..#...#........o#...\n",
      "#..#..............#...#....o.........##.#.........o...#...#..#.#o..#.#....o......#.#.#.....#...#\n",
      "...#...#.#.....#.#...#....#......#..##.##...#....#.o.................#.....................#.#..\n",
      "#..#......#....#......#..#........#.#......#.......o...#...#.#....##......#..#..#...........#...\n",
      "......##.#.....#....###....o#.....................o#...###.#.#..o.....#.#.o..#............##..#.\n",
      "......#.....#..#............o.....#....#......#.#...........##.#.o.........o..#...#.............\n",
      "#......#...#.#..#.......#...o.##.o.........#....#....##.........#......#..#o.....#.#............\n",
      ".#....#..#..##....#........o...#.oo....####......#o..#........##.....#...#o#.....#..............\n",
      "...#...#.....o#..........#..#....o...##...#........o#....#..#....#........#.#...#...#........#..\n",
      "........#....oo.......#.........o#...##.....#....#......#...#........#.#..#..#...#..#..#........\n",
      "..#....#..#..o...#..##o....o........#.......#....#...#......#......#.....#o.#...##.........#.##.\n",
      "...........#o#..##..#.oo...#o..#.......#......#..#.##.##....#.#...#..#.....o......##.##.......#.\n",
      "#....#............#...o.#...o#..o......#....#..#.#..#...#....#....#.....#.........#..........#..\n",
      "#.#....#.#.........#.o#....o..#..o#...#.#......#..##....###...#..##.###..............#..........\n",
      "...#......##o#...........#.#.....o......#...#...#...#......#..#.......#...#..........#.#...#..#.\n",
      ".........#...o#.#..#.....#......o.......#..#.#.......#......#....#................#...#.......#.\n",
      "#.....##.....o.......o..#.#o......................#.#.............#......###....#..#......#.#...\n",
      ".#.....#....o.......#.o#....o.#.............##...........#..................###.....#..#....#...\n",
      "....#........#...#....o..#....#.o........#......#...#.......##.........##..#....#.......#.....#.\n",
      "#..#.#.##.#..........o....##.###.o........#..###.#......#.....#........#......##....#..........#\n",
      "..........#.o...#...##...#.......o.....#......#....#......#..###...........#............#.#....#\n",
      ".......#..#..o.......#..#.......o..........#..#..........#...#....##.........................#..\n",
      "....#.#......o......#o.#.#...###......#.............##.#...##....#.......#..#.#.#...#..#.#.....#\n",
      "........#.##o......#..o.........#.....#................#.....#.............#............#..#.##.\n",
      ".........#..##..##....o.#....#..o.....................##...........###.......##.#......#...##.#.\n",
      "#..............#...#.o..........#o......#..............#...#...#....#............#..............\n",
      "......#..#..o#.........#....#......#.......#.#...............#...............####.#...#.#.......\n",
      "..#...#......o#..................#....#........#..#.#.#.......##.....#.....#.........#........#.\n",
      "...#...............#.o#....#....#........##.#..#..#..#...##..#.#..#......#.##........##.#...#...\n",
      "......#...#......##...o.........#.........#.....#..#.............##....#................##..#..#\n",
      "#.....#.#.#.....#...........##.........#.#.........#........#....#.......##..#......#...........\n",
      ".#...........#....#..#....#...#...............#.....#........##...............#..............#.#\n",
      "...........#......................#.......#.#....#..#....####......#..#.......#............#..#.\n"
     ]
    }
   ],
   "source": [
    "for pattern in monster_patterns:\n",
    "    detected_image, detected_monsters = detect_monsters(image, pattern)\n",
    "    if detected_monsters > 0:\n",
    "        print(sum(c == '#' for c in detected_image))\n",
    "        print(detected_image)"
   ]
  },
  {
   "cell_type": "code",
   "execution_count": null,
   "metadata": {},
   "outputs": [],
   "source": []
  }
 ],
 "metadata": {
  "kernelspec": {
   "display_name": "Python 3",
   "language": "python",
   "name": "python3"
  },
  "language_info": {
   "codemirror_mode": {
    "name": "ipython",
    "version": 3
   },
   "file_extension": ".py",
   "mimetype": "text/x-python",
   "name": "python",
   "nbconvert_exporter": "python",
   "pygments_lexer": "ipython3",
   "version": "3.7.4"
  }
 },
 "nbformat": 4,
 "nbformat_minor": 4
}
