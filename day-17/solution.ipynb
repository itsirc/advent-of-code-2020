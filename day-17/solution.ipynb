{
 "cells": [
  {
   "cell_type": "code",
   "execution_count": 1,
   "metadata": {},
   "outputs": [],
   "source": [
    "from collections import namedtuple"
   ]
  },
  {
   "cell_type": "code",
   "execution_count": 2,
   "metadata": {},
   "outputs": [],
   "source": [
    "Vec3D = namedtuple('Vec3D', 'x y z')"
   ]
  },
  {
   "cell_type": "code",
   "execution_count": 3,
   "metadata": {},
   "outputs": [],
   "source": [
    "Vec3D.__add__ = lambda a, b: Vec3D(a.x + b.x, a.y + b.y, a.z + b.z)\n",
    "Vec3D.__sub__ = lambda a, b: Vec3D(a.x - b.x, a.y - b.y, a.z - b.z)"
   ]
  },
  {
   "cell_type": "code",
   "execution_count": 4,
   "metadata": {},
   "outputs": [],
   "source": [
    "def get_input(fname=\"input.txt\"):\n",
    "    with open(fname) as f:\n",
    "        return [list(line.strip()) for line in f.readlines()]"
   ]
  },
  {
   "cell_type": "code",
   "execution_count": 5,
   "metadata": {},
   "outputs": [],
   "source": [
    "test_data = get_input(\"test.txt\")"
   ]
  },
  {
   "cell_type": "code",
   "execution_count": 6,
   "metadata": {},
   "outputs": [
    {
     "data": {
      "text/plain": [
       "[['.', '#', '.'], ['.', '.', '#'], ['#', '#', '#']]"
      ]
     },
     "execution_count": 6,
     "metadata": {},
     "output_type": "execute_result"
    }
   ],
   "source": [
    "test_data"
   ]
  },
  {
   "cell_type": "code",
   "execution_count": 7,
   "metadata": {},
   "outputs": [],
   "source": [
    "test_dimension = { Vec3D(i, j, 0) for i, line in enumerate(test_data) for j, v in enumerate(line) if v != '.' }"
   ]
  },
  {
   "cell_type": "code",
   "execution_count": 8,
   "metadata": {},
   "outputs": [
    {
     "data": {
      "text/plain": [
       "{Vec3D(x=0, y=1, z=0),\n",
       " Vec3D(x=1, y=2, z=0),\n",
       " Vec3D(x=2, y=0, z=0),\n",
       " Vec3D(x=2, y=1, z=0),\n",
       " Vec3D(x=2, y=2, z=0)}"
      ]
     },
     "execution_count": 8,
     "metadata": {},
     "output_type": "execute_result"
    }
   ],
   "source": [
    "test_dimension"
   ]
  },
  {
   "cell_type": "code",
   "execution_count": 9,
   "metadata": {},
   "outputs": [],
   "source": [
    "def execute(start, cycles=6):\n",
    "    directions = { Vec3D(x, y, z) for x in range(-1, 2) for y in range(-1, 2) for z in range(-1, 2) if (x, y, z) != (0, 0, 0) }\n",
    "    current = set(start)\n",
    "    for _ in range(cycles):\n",
    "        nxt = set()\n",
    "        neighbors = set()\n",
    "        # currently active\n",
    "        for vec in current:\n",
    "            v_neighbors = { vec + d for d in directions }\n",
    "            if len(v_neighbors & current) in { 2, 3 }:\n",
    "                nxt.add(vec)\n",
    "            neighbors |= v_neighbors\n",
    "        # currently inactive\n",
    "        for vec in neighbors:\n",
    "            v_neighbors = { vec + d for d in directions }\n",
    "            if len(v_neighbors & current) == 3:\n",
    "                nxt.add(vec)\n",
    "        current = nxt\n",
    "    return current"
   ]
  },
  {
   "cell_type": "code",
   "execution_count": 10,
   "metadata": {},
   "outputs": [
    {
     "data": {
      "text/plain": [
       "112"
      ]
     },
     "execution_count": 10,
     "metadata": {},
     "output_type": "execute_result"
    }
   ],
   "source": [
    "len(execute(test_dimension, 6))"
   ]
  },
  {
   "cell_type": "code",
   "execution_count": 11,
   "metadata": {},
   "outputs": [],
   "source": [
    "input_data = get_input(\"input.txt\")"
   ]
  },
  {
   "cell_type": "code",
   "execution_count": 12,
   "metadata": {},
   "outputs": [],
   "source": [
    "input_dimension = { Vec3D(i, j, 0) for i, line in enumerate(input_data) for j, v in enumerate(line) if v != '.' }"
   ]
  },
  {
   "cell_type": "code",
   "execution_count": 13,
   "metadata": {},
   "outputs": [
    {
     "data": {
      "text/plain": [
       "375"
      ]
     },
     "execution_count": 13,
     "metadata": {},
     "output_type": "execute_result"
    }
   ],
   "source": [
    "len(execute(input_dimension, 6))"
   ]
  },
  {
   "cell_type": "code",
   "execution_count": 14,
   "metadata": {},
   "outputs": [],
   "source": [
    "Vec4D = namedtuple('Vec4D', 'x y z w')"
   ]
  },
  {
   "cell_type": "code",
   "execution_count": 15,
   "metadata": {},
   "outputs": [],
   "source": [
    "Vec4D.__add__ = lambda a, b: Vec4D(a.x + b.x, a.y + b.y, a.z + b.z, a.w + b.w)"
   ]
  },
  {
   "cell_type": "code",
   "execution_count": 16,
   "metadata": {},
   "outputs": [],
   "source": [
    "test_dimension = { Vec4D(i, j, 0, 0) for i, line in enumerate(test_data) for j, v in enumerate(line) if v != '.' }"
   ]
  },
  {
   "cell_type": "code",
   "execution_count": 17,
   "metadata": {},
   "outputs": [],
   "source": [
    "def execute_4d(start, cycles=6):\n",
    "    directions = { Vec4D(x, y, z, w) for x in range(-1, 2) for y in range(-1, 2) for z in range(-1, 2) for w in range(-1, 2) if (x, y, z, w) != (0, 0, 0, 0) }\n",
    "    current = set(start)\n",
    "    for _ in range(cycles):\n",
    "        nxt = set()\n",
    "        neighbors = set()\n",
    "        # currently active\n",
    "        for vec in current:\n",
    "            v_neighbors = { vec + d for d in directions }\n",
    "            if len(v_neighbors & current) in { 2, 3 }:\n",
    "                nxt.add(vec)\n",
    "            neighbors |= v_neighbors\n",
    "        # currently inactive\n",
    "        for vec in neighbors:\n",
    "            v_neighbors = { vec + d for d in directions }\n",
    "            if len(v_neighbors & current) == 3:\n",
    "                nxt.add(vec)\n",
    "        current = nxt\n",
    "    return current"
   ]
  },
  {
   "cell_type": "code",
   "execution_count": 18,
   "metadata": {},
   "outputs": [
    {
     "name": "stdout",
     "output_type": "stream",
     "text": [
      "CPU times: user 1.95 s, sys: 13 ms, total: 1.97 s\n",
      "Wall time: 1.98 s\n"
     ]
    },
    {
     "data": {
      "text/plain": [
       "848"
      ]
     },
     "execution_count": 18,
     "metadata": {},
     "output_type": "execute_result"
    }
   ],
   "source": [
    "%%time\n",
    "len(execute_4d(test_dimension, 6))"
   ]
  },
  {
   "cell_type": "code",
   "execution_count": 19,
   "metadata": {},
   "outputs": [],
   "source": [
    "input_dimension = { Vec4D(i, j, 0, 0) for i, line in enumerate(input_data) for j, v in enumerate(line) if v != '.' }"
   ]
  },
  {
   "cell_type": "code",
   "execution_count": 20,
   "metadata": {},
   "outputs": [
    {
     "name": "stdout",
     "output_type": "stream",
     "text": [
      "CPU times: user 5.43 s, sys: 17.6 ms, total: 5.44 s\n",
      "Wall time: 5.47 s\n"
     ]
    },
    {
     "data": {
      "text/plain": [
       "2192"
      ]
     },
     "execution_count": 20,
     "metadata": {},
     "output_type": "execute_result"
    }
   ],
   "source": [
    "%%time\n",
    "len(execute_4d(input_dimension, 6))"
   ]
  },
  {
   "cell_type": "code",
   "execution_count": null,
   "metadata": {},
   "outputs": [],
   "source": []
  }
 ],
 "metadata": {
  "kernelspec": {
   "display_name": "Python 3",
   "language": "python",
   "name": "python3"
  },
  "language_info": {
   "codemirror_mode": {
    "name": "ipython",
    "version": 3
   },
   "file_extension": ".py",
   "mimetype": "text/x-python",
   "name": "python",
   "nbconvert_exporter": "python",
   "pygments_lexer": "ipython3",
   "version": "3.7.4"
  }
 },
 "nbformat": 4,
 "nbformat_minor": 4
}
