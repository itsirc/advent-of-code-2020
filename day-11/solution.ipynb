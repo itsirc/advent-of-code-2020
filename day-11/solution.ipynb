{
 "cells": [
  {
   "cell_type": "code",
   "execution_count": 1,
   "metadata": {},
   "outputs": [],
   "source": [
    "def get_input(fname=\"input.txt\"):\n",
    "    with open(fname) as f:\n",
    "        return [list(l.strip()) for l in f.readlines()]"
   ]
  },
  {
   "cell_type": "code",
   "execution_count": 2,
   "metadata": {},
   "outputs": [],
   "source": [
    "test_data = get_input(\"test.txt\")"
   ]
  },
  {
   "cell_type": "code",
   "execution_count": 3,
   "metadata": {},
   "outputs": [
    {
     "data": {
      "text/plain": [
       "[['L', '.', 'L', 'L', '.', 'L', 'L', '.', 'L', 'L'],\n",
       " ['L', 'L', 'L', 'L', 'L', 'L', 'L', '.', 'L', 'L'],\n",
       " ['L', '.', 'L', '.', 'L', '.', '.', 'L', '.', '.'],\n",
       " ['L', 'L', 'L', 'L', '.', 'L', 'L', '.', 'L', 'L'],\n",
       " ['L', '.', 'L', 'L', '.', 'L', 'L', '.', 'L', 'L'],\n",
       " ['L', '.', 'L', 'L', 'L', 'L', 'L', '.', 'L', 'L'],\n",
       " ['.', '.', 'L', '.', 'L', '.', '.', '.', '.', '.'],\n",
       " ['L', 'L', 'L', 'L', 'L', 'L', 'L', 'L', 'L', 'L'],\n",
       " ['L', '.', 'L', 'L', 'L', 'L', 'L', 'L', '.', 'L'],\n",
       " ['L', '.', 'L', 'L', 'L', 'L', 'L', '.', 'L', 'L']]"
      ]
     },
     "execution_count": 3,
     "metadata": {},
     "output_type": "execute_result"
    }
   ],
   "source": [
    "test_data"
   ]
  },
  {
   "cell_type": "code",
   "execution_count": 4,
   "metadata": {},
   "outputs": [],
   "source": [
    "def occupied_seats(grid, position):\n",
    "    directions = set((i, j) for i in range(-1, 2) for j in range(-1, 2) if i != 0 or j != 0)\n",
    "    neighbors = set((position[0] + dx, position[1] + dy) for dx, dy in directions)\n",
    "    occupied = 0\n",
    "    for nx, ny in neighbors:\n",
    "        if nx >= 0 and nx < len(grid) and ny >= 0 and ny < len(grid[0]):\n",
    "            if grid[nx][ny] == '#':\n",
    "                occupied += 1\n",
    "    return occupied"
   ]
  },
  {
   "cell_type": "code",
   "execution_count": 5,
   "metadata": {},
   "outputs": [
    {
     "data": {
      "text/plain": [
       "0"
      ]
     },
     "execution_count": 5,
     "metadata": {},
     "output_type": "execute_result"
    }
   ],
   "source": [
    "occupied_seats(test_data, (0, 0))"
   ]
  },
  {
   "cell_type": "code",
   "execution_count": 6,
   "metadata": {},
   "outputs": [],
   "source": [
    "def update(grid, occupied_fn=occupied_seats, threshold=4):\n",
    "    updated = [list(l) for l in grid]\n",
    "    for i in range(len(grid)):\n",
    "        for j in range(len(grid[0])):\n",
    "            occupied = occupied_fn(grid, (i, j))\n",
    "            if grid[i][j] == 'L' and occupied == 0:\n",
    "                updated[i][j] = '#'\n",
    "            elif grid[i][j] == '#' and occupied >= threshold:\n",
    "                updated[i][j] = 'L'\n",
    "    return updated"
   ]
  },
  {
   "cell_type": "code",
   "execution_count": 7,
   "metadata": {},
   "outputs": [
    {
     "data": {
      "text/plain": [
       "[['#', '.', '#', '#', '.', '#', '#', '.', '#', '#'],\n",
       " ['#', '#', '#', '#', '#', '#', '#', '.', '#', '#'],\n",
       " ['#', '.', '#', '.', '#', '.', '.', '#', '.', '.'],\n",
       " ['#', '#', '#', '#', '.', '#', '#', '.', '#', '#'],\n",
       " ['#', '.', '#', '#', '.', '#', '#', '.', '#', '#'],\n",
       " ['#', '.', '#', '#', '#', '#', '#', '.', '#', '#'],\n",
       " ['.', '.', '#', '.', '#', '.', '.', '.', '.', '.'],\n",
       " ['#', '#', '#', '#', '#', '#', '#', '#', '#', '#'],\n",
       " ['#', '.', '#', '#', '#', '#', '#', '#', '.', '#'],\n",
       " ['#', '.', '#', '#', '#', '#', '#', '.', '#', '#']]"
      ]
     },
     "execution_count": 7,
     "metadata": {},
     "output_type": "execute_result"
    }
   ],
   "source": [
    "update(test_data)"
   ]
  },
  {
   "cell_type": "code",
   "execution_count": 8,
   "metadata": {},
   "outputs": [
    {
     "data": {
      "text/plain": [
       "[['#', '.', 'L', 'L', '.', 'L', '#', '.', '#', '#'],\n",
       " ['#', 'L', 'L', 'L', 'L', 'L', 'L', '.', 'L', '#'],\n",
       " ['L', '.', 'L', '.', 'L', '.', '.', 'L', '.', '.'],\n",
       " ['#', 'L', 'L', 'L', '.', 'L', 'L', '.', 'L', '#'],\n",
       " ['#', '.', 'L', 'L', '.', 'L', 'L', '.', 'L', 'L'],\n",
       " ['#', '.', 'L', 'L', 'L', 'L', '#', '.', '#', '#'],\n",
       " ['.', '.', 'L', '.', 'L', '.', '.', '.', '.', '.'],\n",
       " ['#', 'L', 'L', 'L', 'L', 'L', 'L', 'L', 'L', '#'],\n",
       " ['#', '.', 'L', 'L', 'L', 'L', 'L', 'L', '.', 'L'],\n",
       " ['#', '.', '#', 'L', 'L', 'L', 'L', '.', '#', '#']]"
      ]
     },
     "execution_count": 8,
     "metadata": {},
     "output_type": "execute_result"
    }
   ],
   "source": [
    "update(update(test_data))"
   ]
  },
  {
   "cell_type": "code",
   "execution_count": 9,
   "metadata": {},
   "outputs": [],
   "source": [
    "previous = test_data\n",
    "current = update(previous)\n",
    "while current != previous:\n",
    "    previous = current\n",
    "    current = update(current)"
   ]
  },
  {
   "cell_type": "code",
   "execution_count": 10,
   "metadata": {},
   "outputs": [
    {
     "data": {
      "text/plain": [
       "[['#', '.', '#', 'L', '.', 'L', '#', '.', '#', '#'],\n",
       " ['#', 'L', 'L', 'L', '#', 'L', 'L', '.', 'L', '#'],\n",
       " ['L', '.', '#', '.', 'L', '.', '.', '#', '.', '.'],\n",
       " ['#', 'L', '#', '#', '.', '#', '#', '.', 'L', '#'],\n",
       " ['#', '.', '#', 'L', '.', 'L', 'L', '.', 'L', 'L'],\n",
       " ['#', '.', '#', 'L', '#', 'L', '#', '.', '#', '#'],\n",
       " ['.', '.', 'L', '.', 'L', '.', '.', '.', '.', '.'],\n",
       " ['#', 'L', '#', 'L', '#', '#', 'L', '#', 'L', '#'],\n",
       " ['#', '.', 'L', 'L', 'L', 'L', 'L', 'L', '.', 'L'],\n",
       " ['#', '.', '#', 'L', '#', 'L', '#', '.', '#', '#']]"
      ]
     },
     "execution_count": 10,
     "metadata": {},
     "output_type": "execute_result"
    }
   ],
   "source": [
    "current"
   ]
  },
  {
   "cell_type": "code",
   "execution_count": 11,
   "metadata": {},
   "outputs": [
    {
     "data": {
      "text/plain": [
       "37"
      ]
     },
     "execution_count": 11,
     "metadata": {},
     "output_type": "execute_result"
    }
   ],
   "source": [
    "sum(p == '#' for l in current for p in l)"
   ]
  },
  {
   "cell_type": "code",
   "execution_count": 12,
   "metadata": {},
   "outputs": [],
   "source": [
    "input_data = get_input()"
   ]
  },
  {
   "cell_type": "code",
   "execution_count": 13,
   "metadata": {},
   "outputs": [],
   "source": [
    "previous = input_data\n",
    "current = update(previous)\n",
    "while current != previous:\n",
    "    previous = current\n",
    "    current = update(current)"
   ]
  },
  {
   "cell_type": "code",
   "execution_count": 14,
   "metadata": {},
   "outputs": [
    {
     "data": {
      "text/plain": [
       "2338"
      ]
     },
     "execution_count": 14,
     "metadata": {},
     "output_type": "execute_result"
    }
   ],
   "source": [
    "sum(p == '#' for l in current for p in l)"
   ]
  },
  {
   "cell_type": "code",
   "execution_count": 15,
   "metadata": {},
   "outputs": [],
   "source": [
    "def visible_occupied_seats(grid, position):\n",
    "    directions = set((i, j) for i in range(-1, 2) for j in range(-1, 2) if i != 0 or j != 0)\n",
    "    occupied = 0\n",
    "    for dx, dy in directions:\n",
    "        nx = position[0] + dx\n",
    "        ny = position[1] + dy\n",
    "        while nx >= 0 and nx < len(grid) and ny >= 0 and ny < len(grid[0]):\n",
    "            if grid[nx][ny] == '.':\n",
    "                nx += dx\n",
    "                ny += dy\n",
    "                continue\n",
    "            if grid[nx][ny] == '#':\n",
    "                occupied += 1\n",
    "            break\n",
    "    return occupied"
   ]
  },
  {
   "cell_type": "code",
   "execution_count": 16,
   "metadata": {},
   "outputs": [
    {
     "data": {
      "text/plain": [
       "0"
      ]
     },
     "execution_count": 16,
     "metadata": {},
     "output_type": "execute_result"
    }
   ],
   "source": [
    "visible_occupied_seats(test_data, (0, 0))"
   ]
  },
  {
   "cell_type": "code",
   "execution_count": 17,
   "metadata": {},
   "outputs": [
    {
     "data": {
      "text/plain": [
       "[['#', '.', '#', '#', '.', '#', '#', '.', '#', '#'],\n",
       " ['#', '#', '#', '#', '#', '#', '#', '.', '#', '#'],\n",
       " ['#', '.', '#', '.', '#', '.', '.', '#', '.', '.'],\n",
       " ['#', '#', '#', '#', '.', '#', '#', '.', '#', '#'],\n",
       " ['#', '.', '#', '#', '.', '#', '#', '.', '#', '#'],\n",
       " ['#', '.', '#', '#', '#', '#', '#', '.', '#', '#'],\n",
       " ['.', '.', '#', '.', '#', '.', '.', '.', '.', '.'],\n",
       " ['#', '#', '#', '#', '#', '#', '#', '#', '#', '#'],\n",
       " ['#', '.', '#', '#', '#', '#', '#', '#', '.', '#'],\n",
       " ['#', '.', '#', '#', '#', '#', '#', '.', '#', '#']]"
      ]
     },
     "execution_count": 17,
     "metadata": {},
     "output_type": "execute_result"
    }
   ],
   "source": [
    "update(test_data, visible_occupied_seats, 5)"
   ]
  },
  {
   "cell_type": "code",
   "execution_count": 18,
   "metadata": {},
   "outputs": [],
   "source": [
    "previous = test_data\n",
    "current = update(previous, visible_occupied_seats, 5)\n",
    "while current != previous:\n",
    "    previous = current\n",
    "    current = update(current, visible_occupied_seats, 5)"
   ]
  },
  {
   "cell_type": "code",
   "execution_count": 19,
   "metadata": {},
   "outputs": [
    {
     "data": {
      "text/plain": [
       "26"
      ]
     },
     "execution_count": 19,
     "metadata": {},
     "output_type": "execute_result"
    }
   ],
   "source": [
    "sum(p == '#' for l in current for p in l)"
   ]
  },
  {
   "cell_type": "code",
   "execution_count": 20,
   "metadata": {},
   "outputs": [
    {
     "name": "stdout",
     "output_type": "stream",
     "text": [
      "CPU times: user 4.89 s, sys: 26.7 ms, total: 4.91 s\n",
      "Wall time: 4.96 s\n"
     ]
    }
   ],
   "source": [
    "%%time\n",
    "previous = input_data\n",
    "current = update(previous, visible_occupied_seats, 5)\n",
    "while current != previous:\n",
    "    previous = current\n",
    "    current = update(current, visible_occupied_seats, 5)"
   ]
  },
  {
   "cell_type": "code",
   "execution_count": 21,
   "metadata": {},
   "outputs": [
    {
     "data": {
      "text/plain": [
       "2134"
      ]
     },
     "execution_count": 21,
     "metadata": {},
     "output_type": "execute_result"
    }
   ],
   "source": [
    "sum(p == '#' for l in current for p in l)"
   ]
  },
  {
   "cell_type": "code",
   "execution_count": 22,
   "metadata": {},
   "outputs": [],
   "source": [
    "def visible_positions(grid, position):\n",
    "    directions = set((i, j) for i in range(-1, 2) for j in range(-1, 2) if i != 0 or j != 0)\n",
    "    positions = set()\n",
    "    for dx, dy in directions:\n",
    "        nx = position[0] + dx\n",
    "        ny = position[1] + dy\n",
    "        while nx >= 0 and nx < len(grid) and ny >= 0 and ny < len(grid[0]):\n",
    "            if grid[nx][ny] == '.':\n",
    "                nx += dx\n",
    "                ny += dy\n",
    "                continue\n",
    "            positions.add((nx, ny))\n",
    "            break\n",
    "    return positions"
   ]
  },
  {
   "cell_type": "code",
   "execution_count": 23,
   "metadata": {},
   "outputs": [],
   "source": [
    "def get_visible_positions(grid):\n",
    "    visible = {}\n",
    "    for i in range(len(grid)):\n",
    "        for j in range(len(grid[0])):\n",
    "            visible[(i, j)] = visible_positions(grid, (i, j))\n",
    "    return visible"
   ]
  },
  {
   "cell_type": "code",
   "execution_count": 24,
   "metadata": {},
   "outputs": [
    {
     "data": {
      "text/plain": [
       "{(0, 2), (1, 0), (1, 1)}"
      ]
     },
     "execution_count": 24,
     "metadata": {},
     "output_type": "execute_result"
    }
   ],
   "source": [
    "get_visible_positions(test_data)[(0, 0)]"
   ]
  },
  {
   "cell_type": "code",
   "execution_count": 25,
   "metadata": {},
   "outputs": [],
   "source": [
    "def visible_occupied_seats2(grid, position, visible_seats):\n",
    "    occupied = 0\n",
    "    for nx, ny in visible_seats[position]:\n",
    "        if grid[nx][ny] == '#':\n",
    "            occupied += 1\n",
    "    return occupied"
   ]
  },
  {
   "cell_type": "code",
   "execution_count": 26,
   "metadata": {},
   "outputs": [
    {
     "data": {
      "text/plain": [
       "0"
      ]
     },
     "execution_count": 26,
     "metadata": {},
     "output_type": "execute_result"
    }
   ],
   "source": [
    "test_data_visible_positions = get_visible_positions(test_data)\n",
    "visible_occupied_seats2(test_data, (9, 2), test_data_visible_positions)"
   ]
  },
  {
   "cell_type": "code",
   "execution_count": 27,
   "metadata": {},
   "outputs": [],
   "source": [
    "test_data_visible_positions = get_visible_positions(test_data)\n",
    "better_occupied_fn = lambda grid, position: visible_occupied_seats2(grid, position, test_data_visible_positions)\n",
    "previous = test_data\n",
    "current = update(previous, better_occupied_fn, 5)\n",
    "while current != previous:\n",
    "    previous = current\n",
    "    current = update(current, better_occupied_fn, 5)"
   ]
  },
  {
   "cell_type": "code",
   "execution_count": 28,
   "metadata": {},
   "outputs": [
    {
     "data": {
      "text/plain": [
       "26"
      ]
     },
     "execution_count": 28,
     "metadata": {},
     "output_type": "execute_result"
    }
   ],
   "source": [
    "sum(p == '#' for l in current for p in l)"
   ]
  },
  {
   "cell_type": "code",
   "execution_count": 29,
   "metadata": {},
   "outputs": [
    {
     "name": "stdout",
     "output_type": "stream",
     "text": [
      "CPU times: user 1.13 s, sys: 12.4 ms, total: 1.14 s\n",
      "Wall time: 1.15 s\n"
     ]
    }
   ],
   "source": [
    "%%time\n",
    "input_data_visible_positions = get_visible_positions(input_data)\n",
    "better_occupied_fn = lambda grid, position: visible_occupied_seats2(grid, position, input_data_visible_positions)\n",
    "previous = input_data\n",
    "current = update(previous, better_occupied_fn, 5)\n",
    "while current != previous:\n",
    "    previous = current\n",
    "    current = update(current, better_occupied_fn, 5)"
   ]
  },
  {
   "cell_type": "code",
   "execution_count": 30,
   "metadata": {},
   "outputs": [
    {
     "data": {
      "text/plain": [
       "2134"
      ]
     },
     "execution_count": 30,
     "metadata": {},
     "output_type": "execute_result"
    }
   ],
   "source": [
    "sum(p == '#' for l in current for p in l)"
   ]
  },
  {
   "cell_type": "code",
   "execution_count": null,
   "metadata": {},
   "outputs": [],
   "source": []
  }
 ],
 "metadata": {
  "kernelspec": {
   "display_name": "Python 3",
   "language": "python",
   "name": "python3"
  },
  "language_info": {
   "codemirror_mode": {
    "name": "ipython",
    "version": 3
   },
   "file_extension": ".py",
   "mimetype": "text/x-python",
   "name": "python",
   "nbconvert_exporter": "python",
   "pygments_lexer": "ipython3",
   "version": "3.7.4"
  }
 },
 "nbformat": 4,
 "nbformat_minor": 4
}
