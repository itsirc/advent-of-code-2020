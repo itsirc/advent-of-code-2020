{
 "cells": [
  {
   "cell_type": "code",
   "execution_count": 1,
   "metadata": {},
   "outputs": [],
   "source": [
    "from dataclasses import dataclass\n",
    "from typing import Set"
   ]
  },
  {
   "cell_type": "code",
   "execution_count": 2,
   "metadata": {},
   "outputs": [],
   "source": [
    "@dataclass\n",
    "class Food:\n",
    "    ingredients: Set[str]\n",
    "    allergens: Set[str]"
   ]
  },
  {
   "cell_type": "code",
   "execution_count": 3,
   "metadata": {},
   "outputs": [],
   "source": [
    "def get_input(fname=\"input.txt\"):\n",
    "    foods = []\n",
    "    with open(fname) as f:\n",
    "        for line in f.readlines():\n",
    "            ingredients, allergens = line.strip(\")\\n\").split(\" (contains \")\n",
    "            foods.append(Food(set(ingredients.split(\" \")), set(allergens.split(\", \"))))\n",
    "    return foods"
   ]
  },
  {
   "cell_type": "code",
   "execution_count": 4,
   "metadata": {},
   "outputs": [],
   "source": [
    "test_data = get_input(\"test.txt\")"
   ]
  },
  {
   "cell_type": "code",
   "execution_count": 5,
   "metadata": {},
   "outputs": [
    {
     "data": {
      "text/plain": [
       "[Food(ingredients={'nhms', 'mxmxvkd', 'kfcds', 'sqjhc'}, allergens={'fish', 'dairy'}),\n",
       " Food(ingredients={'trh', 'fvjkl', 'mxmxvkd', 'sbzzf'}, allergens={'dairy'}),\n",
       " Food(ingredients={'fvjkl', 'sqjhc'}, allergens={'soy'}),\n",
       " Food(ingredients={'mxmxvkd', 'sqjhc', 'sbzzf'}, allergens={'fish'})]"
      ]
     },
     "execution_count": 5,
     "metadata": {},
     "output_type": "execute_result"
    }
   ],
   "source": [
    "test_data"
   ]
  },
  {
   "cell_type": "code",
   "execution_count": 6,
   "metadata": {},
   "outputs": [],
   "source": [
    "def map_allergens_to_ingredients(foods):\n",
    "    possible_ingredients = {}\n",
    "    mapped_ingredients = set()\n",
    "    all_ingredients = set()\n",
    "    allergens_to_ingredients = {}\n",
    "    for food in foods:\n",
    "        for allergen in food.allergens:\n",
    "            if allergen not in possible_ingredients:\n",
    "                possible_ingredients[allergen] = set(food.ingredients)\n",
    "            else:\n",
    "                possible_ingredients[allergen] &= food.ingredients\n",
    "            all_ingredients |= food.ingredients\n",
    "    while len(mapped_ingredients) != len(possible_ingredients):\n",
    "        for allergen, ingredients in possible_ingredients.items():\n",
    "            ingredients = ingredients - mapped_ingredients\n",
    "            if len(ingredients) == 1:\n",
    "                ingredient = ingredients.pop()\n",
    "                mapped_ingredients.add(ingredient)\n",
    "                allergens_to_ingredients[allergen] = ingredient\n",
    "    return allergens_to_ingredients, all_ingredients - mapped_ingredients"
   ]
  },
  {
   "cell_type": "code",
   "execution_count": 7,
   "metadata": {},
   "outputs": [],
   "source": [
    "allergens_to_ingredients, ingredients_without_allergens = map_allergens_to_ingredients(test_data)"
   ]
  },
  {
   "cell_type": "code",
   "execution_count": 8,
   "metadata": {},
   "outputs": [
    {
     "name": "stdout",
     "output_type": "stream",
     "text": [
      "5\n"
     ]
    }
   ],
   "source": [
    "appearances = 0\n",
    "for food in test_data:\n",
    "    appearances += len(food.ingredients & ingredients_without_allergens)\n",
    "print(appearances)"
   ]
  },
  {
   "cell_type": "code",
   "execution_count": 9,
   "metadata": {},
   "outputs": [
    {
     "name": "stdout",
     "output_type": "stream",
     "text": [
      "mxmxvkd,sqjhc,fvjkl\n"
     ]
    }
   ],
   "source": [
    "print(\",\".join(ingredient for allergen, ingredient in sorted(allergens_to_ingredients.items())))"
   ]
  },
  {
   "cell_type": "code",
   "execution_count": 10,
   "metadata": {},
   "outputs": [],
   "source": [
    "input_data = get_input(\"input.txt\")"
   ]
  },
  {
   "cell_type": "code",
   "execution_count": 11,
   "metadata": {},
   "outputs": [],
   "source": [
    "allergens_to_ingredients, ingredients_without_allergens = map_allergens_to_ingredients(input_data)"
   ]
  },
  {
   "cell_type": "code",
   "execution_count": 12,
   "metadata": {},
   "outputs": [
    {
     "name": "stdout",
     "output_type": "stream",
     "text": [
      "2125\n"
     ]
    }
   ],
   "source": [
    "appearances = 0\n",
    "for food in input_data:\n",
    "    appearances += len(food.ingredients & ingredients_without_allergens)\n",
    "print(appearances)"
   ]
  },
  {
   "cell_type": "code",
   "execution_count": 13,
   "metadata": {},
   "outputs": [
    {
     "name": "stdout",
     "output_type": "stream",
     "text": [
      "phc,spnd,zmsdzh,pdt,fqqcnm,lsgqf,rjc,lzvh\n"
     ]
    }
   ],
   "source": [
    "print(\",\".join(ingredient for allergen, ingredient in sorted(allergens_to_ingredients.items())))"
   ]
  },
  {
   "cell_type": "code",
   "execution_count": null,
   "metadata": {},
   "outputs": [],
   "source": []
  }
 ],
 "metadata": {
  "kernelspec": {
   "display_name": "Python 3",
   "language": "python",
   "name": "python3"
  },
  "language_info": {
   "codemirror_mode": {
    "name": "ipython",
    "version": 3
   },
   "file_extension": ".py",
   "mimetype": "text/x-python",
   "name": "python",
   "nbconvert_exporter": "python",
   "pygments_lexer": "ipython3",
   "version": "3.7.4"
  }
 },
 "nbformat": 4,
 "nbformat_minor": 4
}
