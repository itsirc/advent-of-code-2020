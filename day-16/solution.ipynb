{
 "cells": [
  {
   "cell_type": "code",
   "execution_count": 1,
   "metadata": {},
   "outputs": [],
   "source": [
    "from dataclasses import dataclass, field\n",
    "from typing import List, Set, Optional"
   ]
  },
  {
   "cell_type": "code",
   "execution_count": 2,
   "metadata": {},
   "outputs": [],
   "source": [
    "@dataclass\n",
    "class ValueLimit:\n",
    "    lower: int\n",
    "    upper: int"
   ]
  },
  {
   "cell_type": "code",
   "execution_count": 3,
   "metadata": {},
   "outputs": [],
   "source": [
    "@dataclass\n",
    "class Field:\n",
    "    name: str\n",
    "    limits: List[ValueLimit]\n",
    "    def matches(self, value):\n",
    "        for limit in self.limits:\n",
    "            if limit.lower <= value <= limit.upper:\n",
    "                return True\n",
    "        return False\n",
    "    def __hash__(self):\n",
    "        return hash(self.name)"
   ]
  },
  {
   "cell_type": "code",
   "execution_count": 4,
   "metadata": {},
   "outputs": [],
   "source": [
    "@dataclass\n",
    "class TicketValue:\n",
    "    value: int\n",
    "    possible_fields: Set[Field] = field(default_factory=lambda: set())\n",
    "    def match_fields(self, fields: List[Field]):\n",
    "        self.possible_fields = set(f for f in fields if f.matches(self.value))"
   ]
  },
  {
   "cell_type": "code",
   "execution_count": 5,
   "metadata": {},
   "outputs": [],
   "source": [
    "@dataclass\n",
    "class Ticket:\n",
    "    values: List[TicketValue]"
   ]
  },
  {
   "cell_type": "code",
   "execution_count": 6,
   "metadata": {},
   "outputs": [],
   "source": [
    "def get_input(fname=\"input.txt\"):\n",
    "    fields: List[Field] = []\n",
    "    ticket: Optional[Ticket] = None\n",
    "    other_tickets: List[Ticket] = []\n",
    "    with open(fname) as f:\n",
    "        lines = iter(f.readlines())\n",
    "        line = next(lines).strip()\n",
    "        while line != \"\":\n",
    "            name, llist = line.split(\": \")\n",
    "            llist = llist.split(\" or \")\n",
    "            limits: List[ValueLimit] = []\n",
    "            for l in llist:\n",
    "                parts = l.split(\"-\")\n",
    "                limits.append(ValueLimit(int(parts[0]), int(parts[1])))\n",
    "            fields.append(Field(name, limits))\n",
    "            line = next(lines).strip()\n",
    "        next(lines)\n",
    "        line = next(lines).strip()\n",
    "        ticket = Ticket([TicketValue(int(v)) for v in line.split(\",\")])\n",
    "        next(lines)\n",
    "        next(lines)\n",
    "        line = next(lines)\n",
    "        while line is not None:\n",
    "            other_tickets.append(Ticket([TicketValue(int(v)) for v in line.strip().split(\",\")]))\n",
    "            line = next(lines, None)\n",
    "        return fields, ticket, other_tickets"
   ]
  },
  {
   "cell_type": "code",
   "execution_count": 7,
   "metadata": {},
   "outputs": [],
   "source": [
    "test_fields, test_ticket, test_other_tickets = get_input(\"test.txt\")"
   ]
  },
  {
   "cell_type": "code",
   "execution_count": 8,
   "metadata": {},
   "outputs": [
    {
     "data": {
      "text/plain": [
       "[Field(name='class', limits=[ValueLimit(lower=1, upper=3), ValueLimit(lower=5, upper=7)]),\n",
       " Field(name='row', limits=[ValueLimit(lower=6, upper=11), ValueLimit(lower=33, upper=44)]),\n",
       " Field(name='seat', limits=[ValueLimit(lower=13, upper=40), ValueLimit(lower=45, upper=50)])]"
      ]
     },
     "execution_count": 8,
     "metadata": {},
     "output_type": "execute_result"
    }
   ],
   "source": [
    "test_fields"
   ]
  },
  {
   "cell_type": "code",
   "execution_count": 9,
   "metadata": {},
   "outputs": [
    {
     "data": {
      "text/plain": [
       "Ticket(values=[TicketValue(value=7, possible_fields=set()), TicketValue(value=1, possible_fields=set()), TicketValue(value=14, possible_fields=set())])"
      ]
     },
     "execution_count": 9,
     "metadata": {},
     "output_type": "execute_result"
    }
   ],
   "source": [
    "test_ticket"
   ]
  },
  {
   "cell_type": "code",
   "execution_count": 10,
   "metadata": {},
   "outputs": [
    {
     "data": {
      "text/plain": [
       "[Ticket(values=[TicketValue(value=7, possible_fields=set()), TicketValue(value=3, possible_fields=set()), TicketValue(value=47, possible_fields=set())]),\n",
       " Ticket(values=[TicketValue(value=40, possible_fields=set()), TicketValue(value=4, possible_fields=set()), TicketValue(value=50, possible_fields=set())]),\n",
       " Ticket(values=[TicketValue(value=55, possible_fields=set()), TicketValue(value=2, possible_fields=set()), TicketValue(value=20, possible_fields=set())]),\n",
       " Ticket(values=[TicketValue(value=38, possible_fields=set()), TicketValue(value=6, possible_fields=set()), TicketValue(value=12, possible_fields=set())])]"
      ]
     },
     "execution_count": 10,
     "metadata": {},
     "output_type": "execute_result"
    }
   ],
   "source": [
    "test_other_tickets"
   ]
  },
  {
   "cell_type": "code",
   "execution_count": 11,
   "metadata": {},
   "outputs": [],
   "source": [
    "test_ticket.values[0].match_fields(test_fields)"
   ]
  },
  {
   "cell_type": "code",
   "execution_count": 12,
   "metadata": {},
   "outputs": [
    {
     "data": {
      "text/plain": [
       "{Field(name='class', limits=[ValueLimit(lower=1, upper=3), ValueLimit(lower=5, upper=7)]),\n",
       " Field(name='row', limits=[ValueLimit(lower=6, upper=11), ValueLimit(lower=33, upper=44)])}"
      ]
     },
     "execution_count": 12,
     "metadata": {},
     "output_type": "execute_result"
    }
   ],
   "source": [
    "test_ticket.values[0].possible_fields"
   ]
  },
  {
   "cell_type": "code",
   "execution_count": 13,
   "metadata": {},
   "outputs": [],
   "source": [
    "def find_invalid_tickets(tickets, fields):\n",
    "    invalid_values = []\n",
    "    invalid_tickets = []\n",
    "    for ticket in tickets:\n",
    "        invalid = False\n",
    "        for value in ticket.values:\n",
    "            value.match_fields(fields)\n",
    "            if len(value.possible_fields) == 0:\n",
    "                invalid_values.append(value)\n",
    "                invalid = True\n",
    "        if invalid:\n",
    "            invalid_tickets.append(ticket)\n",
    "    return invalid_tickets, invalid_values"
   ]
  },
  {
   "cell_type": "code",
   "execution_count": 14,
   "metadata": {},
   "outputs": [
    {
     "data": {
      "text/plain": [
       "71"
      ]
     },
     "execution_count": 14,
     "metadata": {},
     "output_type": "execute_result"
    }
   ],
   "source": [
    "sum(v.value for v in find_invalid_tickets(test_other_tickets, test_fields)[1])"
   ]
  },
  {
   "cell_type": "code",
   "execution_count": 15,
   "metadata": {},
   "outputs": [],
   "source": [
    "fields, ticket, other_tickets = get_input(\"input.txt\")"
   ]
  },
  {
   "cell_type": "code",
   "execution_count": 16,
   "metadata": {},
   "outputs": [
    {
     "data": {
      "text/plain": [
       "29878"
      ]
     },
     "execution_count": 16,
     "metadata": {},
     "output_type": "execute_result"
    }
   ],
   "source": [
    "sum(v.value for v in find_invalid_tickets(other_tickets, fields)[1])"
   ]
  },
  {
   "cell_type": "code",
   "execution_count": 17,
   "metadata": {},
   "outputs": [],
   "source": [
    "def find_fields_mapping(tickets, fields):\n",
    "    invalid = find_invalid_tickets(tickets, fields)[0]\n",
    "    mappings = [None for _ in range(len(tickets[0].values))]\n",
    "    possible_values = [set(value.possible_fields) for value in tickets[0].values]\n",
    "    for ticket in tickets:\n",
    "        if ticket in invalid:\n",
    "            continue\n",
    "        for i, v in enumerate(ticket.values):\n",
    "            possible_values[i] &= v.possible_fields\n",
    "    mapped = set()\n",
    "    remaining = set(range(len(mappings)))\n",
    "    while len(remaining) > 0:\n",
    "        for i in list(remaining):\n",
    "            fields = possible_values[i]\n",
    "            possible = fields - mapped\n",
    "            if len(possible) == 1:\n",
    "                mappings[i] = possible.pop()\n",
    "                mapped.add(mappings[i])\n",
    "                remaining.remove(i)\n",
    "    return mappings"
   ]
  },
  {
   "cell_type": "code",
   "execution_count": 18,
   "metadata": {},
   "outputs": [
    {
     "data": {
      "text/plain": [
       "[Field(name='row', limits=[ValueLimit(lower=6, upper=11), ValueLimit(lower=33, upper=44)]),\n",
       " Field(name='class', limits=[ValueLimit(lower=1, upper=3), ValueLimit(lower=5, upper=7)]),\n",
       " Field(name='seat', limits=[ValueLimit(lower=13, upper=40), ValueLimit(lower=45, upper=50)])]"
      ]
     },
     "execution_count": 18,
     "metadata": {},
     "output_type": "execute_result"
    }
   ],
   "source": [
    "find_fields_mapping([test_ticket] + test_other_tickets, test_fields)"
   ]
  },
  {
   "cell_type": "code",
   "execution_count": 19,
   "metadata": {},
   "outputs": [],
   "source": [
    "mappings = find_fields_mapping([ticket] + other_tickets, fields)"
   ]
  },
  {
   "cell_type": "code",
   "execution_count": 20,
   "metadata": {},
   "outputs": [],
   "source": [
    "result = 1\n",
    "for i, fld in enumerate(mappings):\n",
    "    if 'departure' in fld.name:\n",
    "        result *= ticket.values[i].value"
   ]
  },
  {
   "cell_type": "code",
   "execution_count": 21,
   "metadata": {},
   "outputs": [
    {
     "data": {
      "text/plain": [
       "855438643439"
      ]
     },
     "execution_count": 21,
     "metadata": {},
     "output_type": "execute_result"
    }
   ],
   "source": [
    "result"
   ]
  },
  {
   "cell_type": "code",
   "execution_count": null,
   "metadata": {},
   "outputs": [],
   "source": []
  }
 ],
 "metadata": {
  "kernelspec": {
   "display_name": "Python 3",
   "language": "python",
   "name": "python3"
  },
  "language_info": {
   "codemirror_mode": {
    "name": "ipython",
    "version": 3
   },
   "file_extension": ".py",
   "mimetype": "text/x-python",
   "name": "python",
   "nbconvert_exporter": "python",
   "pygments_lexer": "ipython3",
   "version": "3.7.4"
  }
 },
 "nbformat": 4,
 "nbformat_minor": 4
}
