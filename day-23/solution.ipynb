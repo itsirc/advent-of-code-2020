{
 "cells": [
  {
   "cell_type": "code",
   "execution_count": 1,
   "metadata": {},
   "outputs": [],
   "source": [
    "def simulate(cups, turns=100):\n",
    "    nexts = {}\n",
    "    max_value = cups[0]\n",
    "    for i, v in enumerate(cups):\n",
    "        max_value = max(max_value, v)\n",
    "        if i < len(cups) - 1:\n",
    "            nexts[v] = cups[i + 1]\n",
    "    next_destination = lambda v: (v - 1) % max_value or max_value\n",
    "    nexts[cups[-1]] = cups[0]\n",
    "    crt = cups[0]\n",
    "    for _ in range(turns):\n",
    "        destination = next_destination(crt)\n",
    "        next_3 = [nexts[crt]]\n",
    "        next_3.append(nexts[next_3[-1]])\n",
    "        next_3.append(nexts[next_3[-1]])\n",
    "        \n",
    "        nexts[crt] = nexts[next_3[-1]]\n",
    "        \n",
    "        while destination in next_3:\n",
    "            destination = next_destination(destination)\n",
    "        nexts[next_3[-1]] = nexts[destination]\n",
    "        nexts[destination] = next_3[0]\n",
    "        crt = nexts[crt]\n",
    "    return nexts"
   ]
  },
  {
   "cell_type": "code",
   "execution_count": 2,
   "metadata": {},
   "outputs": [],
   "source": [
    "def solution_pt1(nexts):\n",
    "    crt = nexts[1]\n",
    "    while crt != 1:\n",
    "        yield crt\n",
    "        crt = nexts[crt]"
   ]
  },
  {
   "cell_type": "code",
   "execution_count": 3,
   "metadata": {},
   "outputs": [],
   "source": [
    "test_data = list(int(c) for c in '389125467')"
   ]
  },
  {
   "cell_type": "code",
   "execution_count": 4,
   "metadata": {},
   "outputs": [
    {
     "name": "stdout",
     "output_type": "stream",
     "text": [
      "92658374\n"
     ]
    }
   ],
   "source": [
    "test_result = simulate(test_data, 10)\n",
    "print(''.join(str(i) for i in solution_pt1(test_result)))"
   ]
  },
  {
   "cell_type": "code",
   "execution_count": 5,
   "metadata": {},
   "outputs": [
    {
     "name": "stdout",
     "output_type": "stream",
     "text": [
      "67384529\n"
     ]
    }
   ],
   "source": [
    "test_result = simulate(test_data, 100)\n",
    "print(''.join(str(i) for i in solution_pt1(test_result)))"
   ]
  },
  {
   "cell_type": "code",
   "execution_count": 6,
   "metadata": {},
   "outputs": [],
   "source": [
    "input_data = list(int(c) for c in '916438275')"
   ]
  },
  {
   "cell_type": "code",
   "execution_count": 7,
   "metadata": {},
   "outputs": [
    {
     "name": "stdout",
     "output_type": "stream",
     "text": [
      "39564287\n"
     ]
    }
   ],
   "source": [
    "result = simulate(input_data, 100)\n",
    "print(''.join(str(i) for i in solution_pt1(result)))"
   ]
  },
  {
   "cell_type": "code",
   "execution_count": 8,
   "metadata": {},
   "outputs": [
    {
     "name": "stdout",
     "output_type": "stream",
     "text": [
      "934001 159792\n",
      "CPU times: user 19.9 s, sys: 173 ms, total: 20.1 s\n",
      "Wall time: 20.5 s\n"
     ]
    }
   ],
   "source": [
    "%%time\n",
    "test_result = simulate(test_data + list(range(10, 1_000_000 + 1)), turns=10_000_000)\n",
    "print(test_result[1], test_result[test_result[1]])"
   ]
  },
  {
   "cell_type": "code",
   "execution_count": 9,
   "metadata": {},
   "outputs": [
    {
     "name": "stdout",
     "output_type": "stream",
     "text": [
      "404431096944\n",
      "CPU times: user 18.5 s, sys: 92.2 ms, total: 18.6 s\n",
      "Wall time: 18.7 s\n"
     ]
    }
   ],
   "source": [
    "%%time\n",
    "lg_result = simulate(input_data + list(range(10, 1_000_000 + 1)), turns=10_000_000)\n",
    "print(lg_result[1] * lg_result[lg_result[1]])"
   ]
  },
  {
   "cell_type": "code",
   "execution_count": null,
   "metadata": {},
   "outputs": [],
   "source": []
  }
 ],
 "metadata": {
  "kernelspec": {
   "display_name": "Python 3",
   "language": "python",
   "name": "python3"
  },
  "language_info": {
   "codemirror_mode": {
    "name": "ipython",
    "version": 3
   },
   "file_extension": ".py",
   "mimetype": "text/x-python",
   "name": "python",
   "nbconvert_exporter": "python",
   "pygments_lexer": "ipython3",
   "version": "3.7.4"
  }
 },
 "nbformat": 4,
 "nbformat_minor": 4
}
