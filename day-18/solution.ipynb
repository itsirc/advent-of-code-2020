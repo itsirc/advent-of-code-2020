{
 "cells": [
  {
   "cell_type": "code",
   "execution_count": 1,
   "metadata": {},
   "outputs": [],
   "source": [
    "from dataclasses import dataclass\n",
    "from __future__ import annotations"
   ]
  },
  {
   "cell_type": "code",
   "execution_count": 2,
   "metadata": {},
   "outputs": [],
   "source": [
    "@dataclass\n",
    "class Node:\n",
    "    value: str\n",
    "    left: Node = None\n",
    "    right: Node = None\n",
    "    parent: Node = None\n",
    "    def replace(self, child, replacement):\n",
    "        if self.left == child:\n",
    "            self.left = replacement\n",
    "        elif self.right == child:\n",
    "            self.right = replacement\n",
    "        else:\n",
    "            raise \"Tsk!\"\n",
    "    def add(self, child):\n",
    "        if self.left == None:\n",
    "            self.left = child\n",
    "            child.parent = self\n",
    "        else:\n",
    "            self.right = child\n",
    "            child.parent = self\n",
    "    def find_root(self) -> Node:\n",
    "        node = self\n",
    "        while node.parent is not None:\n",
    "            node = node.parent\n",
    "        return node\n",
    "    def evaluate(self):\n",
    "        if self.value == '+':\n",
    "            return self.left.evaluate() + self.right.evaluate()\n",
    "        elif self.value == '*':\n",
    "            return self.left.evaluate() * self.right.evaluate()\n",
    "        else:\n",
    "            return int(self.value)\n",
    "    def __repr__(self):\n",
    "        if self.left is None:\n",
    "            return str(self.value)\n",
    "        return f\"({self.value} ({self.left} {self.right}))\"\n",
    "    def __str__(self):\n",
    "        return repr(self)"
   ]
  },
  {
   "cell_type": "code",
   "execution_count": 3,
   "metadata": {},
   "outputs": [],
   "source": [
    "def get_input(fname):\n",
    "    with open(fname) as f:\n",
    "        return [line.strip() for line in f.readlines()]"
   ]
  },
  {
   "cell_type": "code",
   "execution_count": 4,
   "metadata": {},
   "outputs": [],
   "source": [
    "test_data = get_input(\"test.txt\")"
   ]
  },
  {
   "cell_type": "code",
   "execution_count": 5,
   "metadata": {},
   "outputs": [
    {
     "data": {
      "text/plain": [
       "['1 + 2 * 3 + 4 * 5 + 6',\n",
       " '1 + (2 * 3) + (4 * (5 + 6))',\n",
       " '2 * 3 + (4 * 5)',\n",
       " '5 + (8 * 3 + 9 + 3 * 4 * 3)',\n",
       " '5 * 9 * (7 * 3 * 3 + 9 * 3 + (8 + 6 * 4))',\n",
       " '((2 + 4 * 9) * (6 + 9 * 8 + 6) + 6) + 2 + 4 * 2']"
      ]
     },
     "execution_count": 5,
     "metadata": {},
     "output_type": "execute_result"
    }
   ],
   "source": [
    "test_data"
   ]
  },
  {
   "cell_type": "code",
   "execution_count": 6,
   "metadata": {},
   "outputs": [],
   "source": [
    "def evaluate(expression, start=0):\n",
    "    buffer = []\n",
    "    last_op = '+'\n",
    "    result = 0\n",
    "    crt = start\n",
    "    while crt < len(expression) and expression[crt] != ')':\n",
    "        if expression[crt] in ('+', '*'):\n",
    "            last_op = expression[crt]\n",
    "        elif expression[crt] == '(':\n",
    "            num, crt = evaluate(expression, crt + 1)\n",
    "            if last_op == '+':\n",
    "                result += num\n",
    "            else:\n",
    "                result *= num\n",
    "        elif expression[crt] == ')':\n",
    "            pass\n",
    "        elif expression[crt] == ' ':\n",
    "            if len(buffer) > 0:\n",
    "                num = int(''.join(buffer))\n",
    "                buffer = []\n",
    "                if last_op == '+':\n",
    "                    result += num\n",
    "                else:\n",
    "                    result *= num\n",
    "        else:\n",
    "            buffer.append(expression[crt])\n",
    "        crt += 1\n",
    "    if len(buffer) > 0:\n",
    "        num = int(''.join(buffer))\n",
    "        buffer = []\n",
    "        if last_op == '+':\n",
    "            result += num\n",
    "        else:\n",
    "            result *= num\n",
    "    return result, crt"
   ]
  },
  {
   "cell_type": "code",
   "execution_count": 7,
   "metadata": {},
   "outputs": [
    {
     "data": {
      "text/plain": [
       "(71, 21)"
      ]
     },
     "execution_count": 7,
     "metadata": {},
     "output_type": "execute_result"
    }
   ],
   "source": [
    "evaluate(test_data[0])"
   ]
  },
  {
   "cell_type": "code",
   "execution_count": 8,
   "metadata": {},
   "outputs": [
    {
     "data": {
      "text/plain": [
       "[(71, 21), (51, 27), (26, 15), (437, 27), (12240, 41), (13632, 47)]"
      ]
     },
     "execution_count": 8,
     "metadata": {},
     "output_type": "execute_result"
    }
   ],
   "source": [
    "[evaluate(expr) for expr in test_data]"
   ]
  },
  {
   "cell_type": "code",
   "execution_count": 9,
   "metadata": {},
   "outputs": [],
   "source": [
    "input_data = get_input(\"input.txt\")"
   ]
  },
  {
   "cell_type": "code",
   "execution_count": 10,
   "metadata": {},
   "outputs": [
    {
     "data": {
      "text/plain": [
       "16332191652452"
      ]
     },
     "execution_count": 10,
     "metadata": {},
     "output_type": "execute_result"
    }
   ],
   "source": [
    "sum(evaluate(expr)[0] for expr in input_data)"
   ]
  },
  {
   "cell_type": "code",
   "execution_count": 11,
   "metadata": {},
   "outputs": [],
   "source": [
    "n = Node('12')"
   ]
  },
  {
   "cell_type": "code",
   "execution_count": 12,
   "metadata": {},
   "outputs": [
    {
     "data": {
      "text/plain": [
       "12"
      ]
     },
     "execution_count": 12,
     "metadata": {},
     "output_type": "execute_result"
    }
   ],
   "source": [
    "n.evaluate()"
   ]
  },
  {
   "cell_type": "code",
   "execution_count": 13,
   "metadata": {},
   "outputs": [
    {
     "data": {
      "text/plain": [
       "3"
      ]
     },
     "execution_count": 13,
     "metadata": {},
     "output_type": "execute_result"
    }
   ],
   "source": [
    "Node('+', Node(1), Node(2)).evaluate()"
   ]
  },
  {
   "cell_type": "code",
   "execution_count": 14,
   "metadata": {},
   "outputs": [
    {
     "data": {
      "text/plain": [
       "2"
      ]
     },
     "execution_count": 14,
     "metadata": {},
     "output_type": "execute_result"
    }
   ],
   "source": [
    "Node('*', Node(1), Node(2)).evaluate()"
   ]
  },
  {
   "cell_type": "code",
   "execution_count": 15,
   "metadata": {},
   "outputs": [],
   "source": [
    "def eval_tree(expression, start = 0):\n",
    "    root = Node('+', Node(0))\n",
    "    current_node = root\n",
    "    buffer = []\n",
    "    crt = start\n",
    "    while crt < len(expression):\n",
    "        if expression[crt] == '*':\n",
    "            old_root = root\n",
    "            root = Node('*')\n",
    "            root.add(old_root)\n",
    "            current_node = root\n",
    "        elif expression[crt] == '+':\n",
    "            new_node = Node('+')\n",
    "            current_node.parent.replace(current_node, new_node)\n",
    "            new_node.add(current_node)\n",
    "            current_node = new_node\n",
    "        elif expression[crt] == '(':\n",
    "            num, crt = eval_tree(expression, crt + 1)\n",
    "            current_node.add(Node(num))\n",
    "            current_node = current_node.right\n",
    "        elif expression[crt] == ')':\n",
    "            break\n",
    "        elif expression[crt] == ' ':\n",
    "            if len(buffer) > 0:\n",
    "                num = int(''.join(buffer))\n",
    "                buffer = []\n",
    "                current_node.add(Node(num))\n",
    "                current_node = current_node.right\n",
    "        else:\n",
    "            buffer.append(expression[crt])\n",
    "        crt += 1\n",
    "    if len(buffer) > 0:\n",
    "        num = int(''.join(buffer))\n",
    "        current_node.right = Node(num)\n",
    "        current_node = current_node.right\n",
    "    return root.evaluate(), crt"
   ]
  },
  {
   "cell_type": "code",
   "execution_count": 16,
   "metadata": {},
   "outputs": [
    {
     "name": "stdout",
     "output_type": "stream",
     "text": [
      "1 + 2 * 3 + 4 * 5 + 6 = 231\n",
      "1 + (2 * 3) + (4 * (5 + 6)) = 51\n",
      "2 * 3 + (4 * 5) = 46\n",
      "5 + (8 * 3 + 9 + 3 * 4 * 3) = 1445\n",
      "5 * 9 * (7 * 3 * 3 + 9 * 3 + (8 + 6 * 4)) = 669060\n",
      "((2 + 4 * 9) * (6 + 9 * 8 + 6) + 6) + 2 + 4 * 2 = 23340\n"
     ]
    }
   ],
   "source": [
    "for expr in test_data:\n",
    "    print(expr, '=', eval_tree(expr)[0])"
   ]
  },
  {
   "cell_type": "code",
   "execution_count": 17,
   "metadata": {},
   "outputs": [
    {
     "data": {
      "text/plain": [
       "351175492232654"
      ]
     },
     "execution_count": 17,
     "metadata": {},
     "output_type": "execute_result"
    }
   ],
   "source": [
    "sum(eval_tree(expr)[0] for expr in input_data)"
   ]
  }
 ],
 "metadata": {
  "kernelspec": {
   "display_name": "Python 3",
   "language": "python",
   "name": "python3"
  },
  "language_info": {
   "codemirror_mode": {
    "name": "ipython",
    "version": 3
   },
   "file_extension": ".py",
   "mimetype": "text/x-python",
   "name": "python",
   "nbconvert_exporter": "python",
   "pygments_lexer": "ipython3",
   "version": "3.7.4"
  }
 },
 "nbformat": 4,
 "nbformat_minor": 4
}
