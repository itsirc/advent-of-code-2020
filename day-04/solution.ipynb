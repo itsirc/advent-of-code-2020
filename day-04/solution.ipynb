{
 "cells": [
  {
   "cell_type": "code",
   "execution_count": 1,
   "metadata": {},
   "outputs": [],
   "source": [
    "from dataclasses import dataclass\n",
    "from typing import Sequence"
   ]
  },
  {
   "cell_type": "code",
   "execution_count": 2,
   "metadata": {},
   "outputs": [],
   "source": [
    "@dataclass\n",
    "class KeyValuePair:\n",
    "    key: str\n",
    "    value: str"
   ]
  },
  {
   "cell_type": "code",
   "execution_count": 3,
   "metadata": {},
   "outputs": [],
   "source": [
    "@dataclass\n",
    "class Passport:\n",
    "    data: Sequence[KeyValuePair]"
   ]
  },
  {
   "cell_type": "code",
   "execution_count": 4,
   "metadata": {},
   "outputs": [],
   "source": [
    "def get_input(fname=\"input.txt\"):\n",
    "    data: Sequence[KeyValuePair] = []\n",
    "    with open(fname) as f:\n",
    "        for l in f.readlines():\n",
    "            if l == \"\\n\":\n",
    "                yield Passport(data)\n",
    "                data = []\n",
    "            else:\n",
    "                for p in l.strip().split(\" \"):\n",
    "                    parts = p.split(\":\")\n",
    "                    data.append(KeyValuePair(parts[0], parts[1]))\n",
    "        if len(data) > 0:\n",
    "            yield(Passport(data))"
   ]
  },
  {
   "cell_type": "code",
   "execution_count": 5,
   "metadata": {},
   "outputs": [],
   "source": [
    "test_data = list(get_input(\"test.txt\"))"
   ]
  },
  {
   "cell_type": "code",
   "execution_count": 6,
   "metadata": {},
   "outputs": [
    {
     "data": {
      "text/plain": [
       "[Passport(data=[KeyValuePair(key='ecl', value='gry'), KeyValuePair(key='pid', value='860033327'), KeyValuePair(key='eyr', value='2020'), KeyValuePair(key='hcl', value='#fffffd'), KeyValuePair(key='byr', value='1937'), KeyValuePair(key='iyr', value='2017'), KeyValuePair(key='cid', value='147'), KeyValuePair(key='hgt', value='183cm')]),\n",
       " Passport(data=[KeyValuePair(key='iyr', value='2013'), KeyValuePair(key='ecl', value='amb'), KeyValuePair(key='cid', value='350'), KeyValuePair(key='eyr', value='2023'), KeyValuePair(key='pid', value='028048884'), KeyValuePair(key='hcl', value='#cfa07d'), KeyValuePair(key='byr', value='1929')]),\n",
       " Passport(data=[KeyValuePair(key='hcl', value='#ae17e1'), KeyValuePair(key='iyr', value='2013'), KeyValuePair(key='eyr', value='2024'), KeyValuePair(key='ecl', value='brn'), KeyValuePair(key='pid', value='760753108'), KeyValuePair(key='byr', value='1931'), KeyValuePair(key='hgt', value='179cm')]),\n",
       " Passport(data=[KeyValuePair(key='hcl', value='#cfa07d'), KeyValuePair(key='eyr', value='2025'), KeyValuePair(key='pid', value='166559648'), KeyValuePair(key='iyr', value='2011'), KeyValuePair(key='ecl', value='brn'), KeyValuePair(key='hgt', value='59in')])]"
      ]
     },
     "execution_count": 6,
     "metadata": {},
     "output_type": "execute_result"
    }
   ],
   "source": [
    "test_data"
   ]
  },
  {
   "cell_type": "code",
   "execution_count": 7,
   "metadata": {},
   "outputs": [],
   "source": [
    "def is_valid_passport(passport: Passport):\n",
    "    field_names = { \n",
    "        \"byr\", # (Birth Year)\n",
    "        \"iyr\", # (Issue Year)\n",
    "        \"eyr\", # (Expiration Year)\n",
    "        \"hgt\", # (Height)\n",
    "        \"hcl\", # (Hair Color)\n",
    "        \"ecl\", # (Eye Color)\n",
    "        \"pid\", # (Passport ID)\n",
    "        \"cid\" # (Country ID)\n",
    "    }\n",
    "    required_field_names = set(field_names)\n",
    "    required_field_names.remove(\"cid\")\n",
    "    passport_fields = set([kvp.key for kvp in passport.data])\n",
    "    return required_field_names <= passport_fields\n",
    "\n",
    "Passport.is_valid = is_valid_passport"
   ]
  },
  {
   "cell_type": "code",
   "execution_count": 8,
   "metadata": {},
   "outputs": [
    {
     "data": {
      "text/plain": [
       "[True, False, True, False]"
      ]
     },
     "execution_count": 8,
     "metadata": {},
     "output_type": "execute_result"
    }
   ],
   "source": [
    "[t.is_valid() for t in test_data]"
   ]
  },
  {
   "cell_type": "code",
   "execution_count": 9,
   "metadata": {},
   "outputs": [],
   "source": [
    "input_data = list(get_input())"
   ]
  },
  {
   "cell_type": "code",
   "execution_count": 10,
   "metadata": {},
   "outputs": [
    {
     "data": {
      "text/plain": [
       "247"
      ]
     },
     "execution_count": 10,
     "metadata": {},
     "output_type": "execute_result"
    }
   ],
   "source": [
    "sum([int(p.is_valid()) for p in input_data])"
   ]
  },
  {
   "cell_type": "code",
   "execution_count": 11,
   "metadata": {},
   "outputs": [],
   "source": [
    "def is_valid_interval_value(value, min, max):\n",
    "    try:\n",
    "        yr = int(value)\n",
    "        return min <= yr <= max\n",
    "    except:\n",
    "        return False"
   ]
  },
  {
   "cell_type": "code",
   "execution_count": 12,
   "metadata": {},
   "outputs": [],
   "source": [
    "def is_valid_height(value):\n",
    "    if len(value) < 3:\n",
    "        return False\n",
    "    mu = value[-2:]\n",
    "    if mu not in { \"in\", \"cm\" }:\n",
    "        return False\n",
    "    v = value[:-2]\n",
    "    if mu == \"cm\":\n",
    "        return is_valid_interval_value(v, 150, 193)\n",
    "    return is_valid_interval_value(v, 59, 76)"
   ]
  },
  {
   "cell_type": "code",
   "execution_count": 13,
   "metadata": {},
   "outputs": [
    {
     "data": {
      "text/plain": [
       "True"
      ]
     },
     "execution_count": 13,
     "metadata": {},
     "output_type": "execute_result"
    }
   ],
   "source": [
    "is_valid_height(\"190cm\")"
   ]
  },
  {
   "cell_type": "code",
   "execution_count": 14,
   "metadata": {},
   "outputs": [
    {
     "data": {
      "text/plain": [
       "False"
      ]
     },
     "execution_count": 14,
     "metadata": {},
     "output_type": "execute_result"
    }
   ],
   "source": [
    "is_valid_height(\"190in\")"
   ]
  },
  {
   "cell_type": "code",
   "execution_count": 15,
   "metadata": {},
   "outputs": [],
   "source": [
    "def is_valid_haircolor(value):\n",
    "    if len(value) != 7:\n",
    "        return False\n",
    "    valid_chars = set('0123456789abcdef')\n",
    "    return value[0] == \"#\" and set(value[1:]) <= valid_chars"
   ]
  },
  {
   "cell_type": "code",
   "execution_count": 16,
   "metadata": {},
   "outputs": [
    {
     "data": {
      "text/plain": [
       "True"
      ]
     },
     "execution_count": 16,
     "metadata": {},
     "output_type": "execute_result"
    }
   ],
   "source": [
    "is_valid_haircolor(\"#123abc\")"
   ]
  },
  {
   "cell_type": "code",
   "execution_count": 17,
   "metadata": {},
   "outputs": [
    {
     "data": {
      "text/plain": [
       "False"
      ]
     },
     "execution_count": 17,
     "metadata": {},
     "output_type": "execute_result"
    }
   ],
   "source": [
    "is_valid_haircolor(\"#123abz\")"
   ]
  },
  {
   "cell_type": "code",
   "execution_count": 18,
   "metadata": {},
   "outputs": [
    {
     "data": {
      "text/plain": [
       "False"
      ]
     },
     "execution_count": 18,
     "metadata": {},
     "output_type": "execute_result"
    }
   ],
   "source": [
    "is_valid_haircolor(\"123abc\")"
   ]
  },
  {
   "cell_type": "code",
   "execution_count": 19,
   "metadata": {},
   "outputs": [],
   "source": [
    "def is_valid_eye_color(value):\n",
    "    return value in { \"amb\", \"blu\", \"brn\", \"gry\", \"grn\", \"hzl\", \"oth\" }"
   ]
  },
  {
   "cell_type": "code",
   "execution_count": 20,
   "metadata": {},
   "outputs": [],
   "source": [
    "def is_valid_pid(value):\n",
    "    return len(value) == 9 and set(value) <= set(\"0123456789\")"
   ]
  },
  {
   "cell_type": "code",
   "execution_count": 21,
   "metadata": {},
   "outputs": [],
   "source": [
    "def is_valid_always(value):\n",
    "    return True"
   ]
  },
  {
   "cell_type": "code",
   "execution_count": 22,
   "metadata": {},
   "outputs": [],
   "source": [
    "validators = {\n",
    "    \"byr\": lambda v: is_valid_interval_value(v, 1920, 2002),\n",
    "    \"iyr\": lambda v: is_valid_interval_value(v, 2010, 2020),\n",
    "    \"eyr\": lambda v: is_valid_interval_value(v, 2020, 2030),\n",
    "    \"hgt\": is_valid_height,\n",
    "    \"hcl\": is_valid_haircolor,\n",
    "    \"ecl\": is_valid_eye_color,\n",
    "    \"pid\": is_valid_pid,\n",
    "    \"cid\": is_valid_always\n",
    "}"
   ]
  },
  {
   "cell_type": "code",
   "execution_count": 23,
   "metadata": {},
   "outputs": [],
   "source": [
    "def is_valid_strict(passport: Passport):\n",
    "    field_names = { \n",
    "        \"byr\", # (Birth Year)\n",
    "        \"iyr\", # (Issue Year)\n",
    "        \"eyr\", # (Expiration Year)\n",
    "        \"hgt\", # (Height)\n",
    "        \"hcl\", # (Hair Color)\n",
    "        \"ecl\", # (Eye Color)\n",
    "        \"pid\", # (Passport ID)\n",
    "        \"cid\" # (Country ID)\n",
    "    }\n",
    "    required_field_names = set(field_names)\n",
    "    required_field_names.remove(\"cid\")\n",
    "    passport_fields = set([kvp.key for kvp in passport.data])\n",
    "    if required_field_names <= passport_fields:\n",
    "        for kvp in passport.data:\n",
    "            if not validators[kvp.key](kvp.value):\n",
    "                return False\n",
    "        return True\n",
    "    return False\n",
    "\n",
    "Passport.is_valid_strict = is_valid_strict"
   ]
  },
  {
   "cell_type": "code",
   "execution_count": 24,
   "metadata": {},
   "outputs": [],
   "source": [
    "test_data_2 = get_input(\"test2.txt\")"
   ]
  },
  {
   "cell_type": "code",
   "execution_count": 25,
   "metadata": {},
   "outputs": [
    {
     "data": {
      "text/plain": [
       "[False, False, False, False, True, True, True, True]"
      ]
     },
     "execution_count": 25,
     "metadata": {},
     "output_type": "execute_result"
    }
   ],
   "source": [
    "[p.is_valid_strict() for p in test_data_2]"
   ]
  },
  {
   "cell_type": "code",
   "execution_count": 26,
   "metadata": {},
   "outputs": [
    {
     "data": {
      "text/plain": [
       "145"
      ]
     },
     "execution_count": 26,
     "metadata": {},
     "output_type": "execute_result"
    }
   ],
   "source": [
    "sum([int(p.is_valid_strict()) for p in input_data])"
   ]
  }
 ],
 "metadata": {
  "kernelspec": {
   "display_name": "Python 3",
   "language": "python",
   "name": "python3"
  },
  "language_info": {
   "codemirror_mode": {
    "name": "ipython",
    "version": 3
   },
   "file_extension": ".py",
   "mimetype": "text/x-python",
   "name": "python",
   "nbconvert_exporter": "python",
   "pygments_lexer": "ipython3",
   "version": "3.7.4"
  }
 },
 "nbformat": 4,
 "nbformat_minor": 4
}
